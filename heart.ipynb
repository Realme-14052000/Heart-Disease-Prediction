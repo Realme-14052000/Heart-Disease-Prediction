{
  "nbformat": 4,
  "nbformat_minor": 0,
  "metadata": {
    "colab": {
      "name": "heart.ipynb",
      "provenance": [],
      "collapsed_sections": []
    },
    "kernelspec": {
      "name": "python3",
      "display_name": "Python 3"
    },
    "language_info": {
      "name": "python"
    }
  },
  "cells": [
    {
      "cell_type": "markdown",
      "metadata": {
        "id": "mXfPK8d7Og5x"
      },
      "source": [
        "# **Importing libraries**\n",
        "\n"
      ]
    },
    {
      "cell_type": "code",
      "metadata": {
        "id": "RHPeLanzrLjP"
      },
      "source": [
        "import pandas as pd\n",
        "import seaborn as sns\n",
        "import matplotlib.pyplot as plt"
      ],
      "execution_count": null,
      "outputs": []
    },
    {
      "cell_type": "markdown",
      "metadata": {
        "id": "qWrduPlZNdTW"
      },
      "source": [
        "## **Importing the Dataset**\n",
        "The following code imports the dataset from the mounted drive.\n",
        "\n",
        "\n"
      ]
    },
    {
      "cell_type": "code",
      "metadata": {
        "id": "SS7huWvNEORK",
        "colab": {
          "base_uri": "https://localhost:8080/"
        },
        "outputId": "82cc94c8-3d63-49fa-9f3c-1286882fbde0"
      },
      "source": [
        "from google.colab import drive\n",
        "drive.mount('/content/drive')"
      ],
      "execution_count": null,
      "outputs": [
        {
          "output_type": "stream",
          "text": [
            "Drive already mounted at /content/drive; to attempt to forcibly remount, call drive.mount(\"/content/drive\", force_remount=True).\n"
          ],
          "name": "stdout"
        }
      ]
    },
    {
      "cell_type": "code",
      "metadata": {
        "id": "HMhTbEbIwHTm",
        "colab": {
          "base_uri": "https://localhost:8080/",
          "height": 202
        },
        "outputId": "9fcfb706-e611-4150-ce34-c0b9d3513a12"
      },
      "source": [
        "dataset =pd.read_csv(\"/content/drive/MyDrive/heart.csv\")\n",
        "dataset.head()"
      ],
      "execution_count": null,
      "outputs": [
        {
          "output_type": "execute_result",
          "data": {
            "text/html": [
              "<div>\n",
              "<style scoped>\n",
              "    .dataframe tbody tr th:only-of-type {\n",
              "        vertical-align: middle;\n",
              "    }\n",
              "\n",
              "    .dataframe tbody tr th {\n",
              "        vertical-align: top;\n",
              "    }\n",
              "\n",
              "    .dataframe thead th {\n",
              "        text-align: right;\n",
              "    }\n",
              "</style>\n",
              "<table border=\"1\" class=\"dataframe\">\n",
              "  <thead>\n",
              "    <tr style=\"text-align: right;\">\n",
              "      <th></th>\n",
              "      <th>age</th>\n",
              "      <th>sex</th>\n",
              "      <th>cp</th>\n",
              "      <th>trtbps</th>\n",
              "      <th>chol</th>\n",
              "      <th>fbs</th>\n",
              "      <th>restecg</th>\n",
              "      <th>thalachh</th>\n",
              "      <th>exng</th>\n",
              "      <th>oldpeak</th>\n",
              "      <th>slp</th>\n",
              "      <th>caa</th>\n",
              "      <th>thall</th>\n",
              "      <th>output</th>\n",
              "    </tr>\n",
              "  </thead>\n",
              "  <tbody>\n",
              "    <tr>\n",
              "      <th>0</th>\n",
              "      <td>63</td>\n",
              "      <td>1</td>\n",
              "      <td>3</td>\n",
              "      <td>145</td>\n",
              "      <td>233</td>\n",
              "      <td>1</td>\n",
              "      <td>0</td>\n",
              "      <td>150</td>\n",
              "      <td>0</td>\n",
              "      <td>2.3</td>\n",
              "      <td>0</td>\n",
              "      <td>0</td>\n",
              "      <td>1</td>\n",
              "      <td>1</td>\n",
              "    </tr>\n",
              "    <tr>\n",
              "      <th>1</th>\n",
              "      <td>37</td>\n",
              "      <td>1</td>\n",
              "      <td>2</td>\n",
              "      <td>130</td>\n",
              "      <td>250</td>\n",
              "      <td>0</td>\n",
              "      <td>1</td>\n",
              "      <td>187</td>\n",
              "      <td>0</td>\n",
              "      <td>3.5</td>\n",
              "      <td>0</td>\n",
              "      <td>0</td>\n",
              "      <td>2</td>\n",
              "      <td>1</td>\n",
              "    </tr>\n",
              "    <tr>\n",
              "      <th>2</th>\n",
              "      <td>41</td>\n",
              "      <td>0</td>\n",
              "      <td>1</td>\n",
              "      <td>130</td>\n",
              "      <td>204</td>\n",
              "      <td>0</td>\n",
              "      <td>0</td>\n",
              "      <td>172</td>\n",
              "      <td>0</td>\n",
              "      <td>1.4</td>\n",
              "      <td>2</td>\n",
              "      <td>0</td>\n",
              "      <td>2</td>\n",
              "      <td>1</td>\n",
              "    </tr>\n",
              "    <tr>\n",
              "      <th>3</th>\n",
              "      <td>56</td>\n",
              "      <td>1</td>\n",
              "      <td>1</td>\n",
              "      <td>120</td>\n",
              "      <td>236</td>\n",
              "      <td>0</td>\n",
              "      <td>1</td>\n",
              "      <td>178</td>\n",
              "      <td>0</td>\n",
              "      <td>0.8</td>\n",
              "      <td>2</td>\n",
              "      <td>0</td>\n",
              "      <td>2</td>\n",
              "      <td>1</td>\n",
              "    </tr>\n",
              "    <tr>\n",
              "      <th>4</th>\n",
              "      <td>57</td>\n",
              "      <td>0</td>\n",
              "      <td>0</td>\n",
              "      <td>120</td>\n",
              "      <td>354</td>\n",
              "      <td>0</td>\n",
              "      <td>1</td>\n",
              "      <td>163</td>\n",
              "      <td>1</td>\n",
              "      <td>0.6</td>\n",
              "      <td>2</td>\n",
              "      <td>0</td>\n",
              "      <td>2</td>\n",
              "      <td>1</td>\n",
              "    </tr>\n",
              "  </tbody>\n",
              "</table>\n",
              "</div>"
            ],
            "text/plain": [
              "   age  sex  cp  trtbps  chol  fbs  ...  exng  oldpeak  slp  caa  thall  output\n",
              "0   63    1   3     145   233    1  ...     0      2.3    0    0      1       1\n",
              "1   37    1   2     130   250    0  ...     0      3.5    0    0      2       1\n",
              "2   41    0   1     130   204    0  ...     0      1.4    2    0      2       1\n",
              "3   56    1   1     120   236    0  ...     0      0.8    2    0      2       1\n",
              "4   57    0   0     120   354    0  ...     1      0.6    2    0      2       1\n",
              "\n",
              "[5 rows x 14 columns]"
            ]
          },
          "metadata": {
            "tags": []
          },
          "execution_count": 328
        }
      ]
    },
    {
      "cell_type": "markdown",
      "metadata": {
        "id": "oR-Xrq3MXrbR"
      },
      "source": [
        "## **Understanding Dataset**\n",
        "Shape of dataset:"
      ]
    },
    {
      "cell_type": "markdown",
      "metadata": {
        "id": "wjQj-jQYCci3"
      },
      "source": [
        ""
      ]
    },
    {
      "cell_type": "code",
      "metadata": {
        "colab": {
          "base_uri": "https://localhost:8080/"
        },
        "id": "bjfiUp_DZUW6",
        "outputId": "a164a276-51ea-4a6e-cab9-3dbf947d8f9d"
      },
      "source": [
        "dataset.shape"
      ],
      "execution_count": null,
      "outputs": [
        {
          "output_type": "execute_result",
          "data": {
            "text/plain": [
              "(303, 14)"
            ]
          },
          "metadata": {
            "tags": []
          },
          "execution_count": 329
        }
      ]
    },
    {
      "cell_type": "markdown",
      "metadata": {
        "id": "SBxb3BQ8ZlWx"
      },
      "source": [
        "Printing out 5 data samples:\n"
      ]
    },
    {
      "cell_type": "code",
      "metadata": {
        "colab": {
          "base_uri": "https://localhost:8080/",
          "height": 202
        },
        "id": "7z3yj0PVZ0Pa",
        "outputId": "a0eaebe3-ef4a-412f-9625-015dbeee08ec"
      },
      "source": [
        "dataset.sample(5)"
      ],
      "execution_count": null,
      "outputs": [
        {
          "output_type": "execute_result",
          "data": {
            "text/html": [
              "<div>\n",
              "<style scoped>\n",
              "    .dataframe tbody tr th:only-of-type {\n",
              "        vertical-align: middle;\n",
              "    }\n",
              "\n",
              "    .dataframe tbody tr th {\n",
              "        vertical-align: top;\n",
              "    }\n",
              "\n",
              "    .dataframe thead th {\n",
              "        text-align: right;\n",
              "    }\n",
              "</style>\n",
              "<table border=\"1\" class=\"dataframe\">\n",
              "  <thead>\n",
              "    <tr style=\"text-align: right;\">\n",
              "      <th></th>\n",
              "      <th>age</th>\n",
              "      <th>sex</th>\n",
              "      <th>cp</th>\n",
              "      <th>trtbps</th>\n",
              "      <th>chol</th>\n",
              "      <th>fbs</th>\n",
              "      <th>restecg</th>\n",
              "      <th>thalachh</th>\n",
              "      <th>exng</th>\n",
              "      <th>oldpeak</th>\n",
              "      <th>slp</th>\n",
              "      <th>caa</th>\n",
              "      <th>thall</th>\n",
              "      <th>output</th>\n",
              "    </tr>\n",
              "  </thead>\n",
              "  <tbody>\n",
              "    <tr>\n",
              "      <th>185</th>\n",
              "      <td>44</td>\n",
              "      <td>1</td>\n",
              "      <td>0</td>\n",
              "      <td>112</td>\n",
              "      <td>290</td>\n",
              "      <td>0</td>\n",
              "      <td>0</td>\n",
              "      <td>153</td>\n",
              "      <td>0</td>\n",
              "      <td>0.0</td>\n",
              "      <td>2</td>\n",
              "      <td>1</td>\n",
              "      <td>2</td>\n",
              "      <td>0</td>\n",
              "    </tr>\n",
              "    <tr>\n",
              "      <th>84</th>\n",
              "      <td>42</td>\n",
              "      <td>0</td>\n",
              "      <td>0</td>\n",
              "      <td>102</td>\n",
              "      <td>265</td>\n",
              "      <td>0</td>\n",
              "      <td>0</td>\n",
              "      <td>122</td>\n",
              "      <td>0</td>\n",
              "      <td>0.6</td>\n",
              "      <td>1</td>\n",
              "      <td>0</td>\n",
              "      <td>2</td>\n",
              "      <td>1</td>\n",
              "    </tr>\n",
              "    <tr>\n",
              "      <th>109</th>\n",
              "      <td>50</td>\n",
              "      <td>0</td>\n",
              "      <td>0</td>\n",
              "      <td>110</td>\n",
              "      <td>254</td>\n",
              "      <td>0</td>\n",
              "      <td>0</td>\n",
              "      <td>159</td>\n",
              "      <td>0</td>\n",
              "      <td>0.0</td>\n",
              "      <td>2</td>\n",
              "      <td>0</td>\n",
              "      <td>2</td>\n",
              "      <td>1</td>\n",
              "    </tr>\n",
              "    <tr>\n",
              "      <th>27</th>\n",
              "      <td>51</td>\n",
              "      <td>1</td>\n",
              "      <td>2</td>\n",
              "      <td>110</td>\n",
              "      <td>175</td>\n",
              "      <td>0</td>\n",
              "      <td>1</td>\n",
              "      <td>123</td>\n",
              "      <td>0</td>\n",
              "      <td>0.6</td>\n",
              "      <td>2</td>\n",
              "      <td>0</td>\n",
              "      <td>2</td>\n",
              "      <td>1</td>\n",
              "    </tr>\n",
              "    <tr>\n",
              "      <th>46</th>\n",
              "      <td>44</td>\n",
              "      <td>1</td>\n",
              "      <td>2</td>\n",
              "      <td>140</td>\n",
              "      <td>235</td>\n",
              "      <td>0</td>\n",
              "      <td>0</td>\n",
              "      <td>180</td>\n",
              "      <td>0</td>\n",
              "      <td>0.0</td>\n",
              "      <td>2</td>\n",
              "      <td>0</td>\n",
              "      <td>2</td>\n",
              "      <td>1</td>\n",
              "    </tr>\n",
              "  </tbody>\n",
              "</table>\n",
              "</div>"
            ],
            "text/plain": [
              "     age  sex  cp  trtbps  chol  fbs  ...  exng  oldpeak  slp  caa  thall  output\n",
              "185   44    1   0     112   290    0  ...     0      0.0    2    1      2       0\n",
              "84    42    0   0     102   265    0  ...     0      0.6    1    0      2       1\n",
              "109   50    0   0     110   254    0  ...     0      0.0    2    0      2       1\n",
              "27    51    1   2     110   175    0  ...     0      0.6    2    0      2       1\n",
              "46    44    1   2     140   235    0  ...     0      0.0    2    0      2       1\n",
              "\n",
              "[5 rows x 14 columns]"
            ]
          },
          "metadata": {
            "tags": []
          },
          "execution_count": 330
        }
      ]
    },
    {
      "cell_type": "markdown",
      "metadata": {
        "id": "blqGkgXpaw1d"
      },
      "source": [
        "Data Description: "
      ]
    },
    {
      "cell_type": "code",
      "metadata": {
        "colab": {
          "base_uri": "https://localhost:8080/",
          "height": 314
        },
        "id": "iaaJPq1ybNe_",
        "outputId": "5e05ba5b-f85f-4173-989a-a0753bf2ff9d"
      },
      "source": [
        "dataset.describe()"
      ],
      "execution_count": null,
      "outputs": [
        {
          "output_type": "execute_result",
          "data": {
            "text/html": [
              "<div>\n",
              "<style scoped>\n",
              "    .dataframe tbody tr th:only-of-type {\n",
              "        vertical-align: middle;\n",
              "    }\n",
              "\n",
              "    .dataframe tbody tr th {\n",
              "        vertical-align: top;\n",
              "    }\n",
              "\n",
              "    .dataframe thead th {\n",
              "        text-align: right;\n",
              "    }\n",
              "</style>\n",
              "<table border=\"1\" class=\"dataframe\">\n",
              "  <thead>\n",
              "    <tr style=\"text-align: right;\">\n",
              "      <th></th>\n",
              "      <th>age</th>\n",
              "      <th>sex</th>\n",
              "      <th>cp</th>\n",
              "      <th>trtbps</th>\n",
              "      <th>chol</th>\n",
              "      <th>fbs</th>\n",
              "      <th>restecg</th>\n",
              "      <th>thalachh</th>\n",
              "      <th>exng</th>\n",
              "      <th>oldpeak</th>\n",
              "      <th>slp</th>\n",
              "      <th>caa</th>\n",
              "      <th>thall</th>\n",
              "      <th>output</th>\n",
              "    </tr>\n",
              "  </thead>\n",
              "  <tbody>\n",
              "    <tr>\n",
              "      <th>count</th>\n",
              "      <td>303.000000</td>\n",
              "      <td>303.000000</td>\n",
              "      <td>303.000000</td>\n",
              "      <td>303.000000</td>\n",
              "      <td>303.000000</td>\n",
              "      <td>303.000000</td>\n",
              "      <td>303.000000</td>\n",
              "      <td>303.000000</td>\n",
              "      <td>303.000000</td>\n",
              "      <td>303.000000</td>\n",
              "      <td>303.000000</td>\n",
              "      <td>303.000000</td>\n",
              "      <td>303.000000</td>\n",
              "      <td>303.000000</td>\n",
              "    </tr>\n",
              "    <tr>\n",
              "      <th>mean</th>\n",
              "      <td>54.366337</td>\n",
              "      <td>0.683168</td>\n",
              "      <td>0.966997</td>\n",
              "      <td>131.623762</td>\n",
              "      <td>246.264026</td>\n",
              "      <td>0.148515</td>\n",
              "      <td>0.528053</td>\n",
              "      <td>149.646865</td>\n",
              "      <td>0.326733</td>\n",
              "      <td>1.039604</td>\n",
              "      <td>1.399340</td>\n",
              "      <td>0.729373</td>\n",
              "      <td>2.313531</td>\n",
              "      <td>0.544554</td>\n",
              "    </tr>\n",
              "    <tr>\n",
              "      <th>std</th>\n",
              "      <td>9.082101</td>\n",
              "      <td>0.466011</td>\n",
              "      <td>1.032052</td>\n",
              "      <td>17.538143</td>\n",
              "      <td>51.830751</td>\n",
              "      <td>0.356198</td>\n",
              "      <td>0.525860</td>\n",
              "      <td>22.905161</td>\n",
              "      <td>0.469794</td>\n",
              "      <td>1.161075</td>\n",
              "      <td>0.616226</td>\n",
              "      <td>1.022606</td>\n",
              "      <td>0.612277</td>\n",
              "      <td>0.498835</td>\n",
              "    </tr>\n",
              "    <tr>\n",
              "      <th>min</th>\n",
              "      <td>29.000000</td>\n",
              "      <td>0.000000</td>\n",
              "      <td>0.000000</td>\n",
              "      <td>94.000000</td>\n",
              "      <td>126.000000</td>\n",
              "      <td>0.000000</td>\n",
              "      <td>0.000000</td>\n",
              "      <td>71.000000</td>\n",
              "      <td>0.000000</td>\n",
              "      <td>0.000000</td>\n",
              "      <td>0.000000</td>\n",
              "      <td>0.000000</td>\n",
              "      <td>0.000000</td>\n",
              "      <td>0.000000</td>\n",
              "    </tr>\n",
              "    <tr>\n",
              "      <th>25%</th>\n",
              "      <td>47.500000</td>\n",
              "      <td>0.000000</td>\n",
              "      <td>0.000000</td>\n",
              "      <td>120.000000</td>\n",
              "      <td>211.000000</td>\n",
              "      <td>0.000000</td>\n",
              "      <td>0.000000</td>\n",
              "      <td>133.500000</td>\n",
              "      <td>0.000000</td>\n",
              "      <td>0.000000</td>\n",
              "      <td>1.000000</td>\n",
              "      <td>0.000000</td>\n",
              "      <td>2.000000</td>\n",
              "      <td>0.000000</td>\n",
              "    </tr>\n",
              "    <tr>\n",
              "      <th>50%</th>\n",
              "      <td>55.000000</td>\n",
              "      <td>1.000000</td>\n",
              "      <td>1.000000</td>\n",
              "      <td>130.000000</td>\n",
              "      <td>240.000000</td>\n",
              "      <td>0.000000</td>\n",
              "      <td>1.000000</td>\n",
              "      <td>153.000000</td>\n",
              "      <td>0.000000</td>\n",
              "      <td>0.800000</td>\n",
              "      <td>1.000000</td>\n",
              "      <td>0.000000</td>\n",
              "      <td>2.000000</td>\n",
              "      <td>1.000000</td>\n",
              "    </tr>\n",
              "    <tr>\n",
              "      <th>75%</th>\n",
              "      <td>61.000000</td>\n",
              "      <td>1.000000</td>\n",
              "      <td>2.000000</td>\n",
              "      <td>140.000000</td>\n",
              "      <td>274.500000</td>\n",
              "      <td>0.000000</td>\n",
              "      <td>1.000000</td>\n",
              "      <td>166.000000</td>\n",
              "      <td>1.000000</td>\n",
              "      <td>1.600000</td>\n",
              "      <td>2.000000</td>\n",
              "      <td>1.000000</td>\n",
              "      <td>3.000000</td>\n",
              "      <td>1.000000</td>\n",
              "    </tr>\n",
              "    <tr>\n",
              "      <th>max</th>\n",
              "      <td>77.000000</td>\n",
              "      <td>1.000000</td>\n",
              "      <td>3.000000</td>\n",
              "      <td>200.000000</td>\n",
              "      <td>564.000000</td>\n",
              "      <td>1.000000</td>\n",
              "      <td>2.000000</td>\n",
              "      <td>202.000000</td>\n",
              "      <td>1.000000</td>\n",
              "      <td>6.200000</td>\n",
              "      <td>2.000000</td>\n",
              "      <td>4.000000</td>\n",
              "      <td>3.000000</td>\n",
              "      <td>1.000000</td>\n",
              "    </tr>\n",
              "  </tbody>\n",
              "</table>\n",
              "</div>"
            ],
            "text/plain": [
              "              age         sex          cp  ...         caa       thall      output\n",
              "count  303.000000  303.000000  303.000000  ...  303.000000  303.000000  303.000000\n",
              "mean    54.366337    0.683168    0.966997  ...    0.729373    2.313531    0.544554\n",
              "std      9.082101    0.466011    1.032052  ...    1.022606    0.612277    0.498835\n",
              "min     29.000000    0.000000    0.000000  ...    0.000000    0.000000    0.000000\n",
              "25%     47.500000    0.000000    0.000000  ...    0.000000    2.000000    0.000000\n",
              "50%     55.000000    1.000000    1.000000  ...    0.000000    2.000000    1.000000\n",
              "75%     61.000000    1.000000    2.000000  ...    1.000000    3.000000    1.000000\n",
              "max     77.000000    1.000000    3.000000  ...    4.000000    3.000000    1.000000\n",
              "\n",
              "[8 rows x 14 columns]"
            ]
          },
          "metadata": {
            "tags": []
          },
          "execution_count": 331
        }
      ]
    },
    {
      "cell_type": "markdown",
      "metadata": {
        "id": "1MnHKaDebbxT"
      },
      "source": [
        "Checking for any missing values and data types:"
      ]
    },
    {
      "cell_type": "code",
      "metadata": {
        "colab": {
          "base_uri": "https://localhost:8080/"
        },
        "id": "COHoTdZ8bZYU",
        "outputId": "57be8797-f138-455f-a7b4-e6e6e2f6bca3"
      },
      "source": [
        "dataset.info()\n"
      ],
      "execution_count": null,
      "outputs": [
        {
          "output_type": "stream",
          "text": [
            "<class 'pandas.core.frame.DataFrame'>\n",
            "RangeIndex: 303 entries, 0 to 302\n",
            "Data columns (total 14 columns):\n",
            " #   Column    Non-Null Count  Dtype  \n",
            "---  ------    --------------  -----  \n",
            " 0   age       303 non-null    int64  \n",
            " 1   sex       303 non-null    int64  \n",
            " 2   cp        303 non-null    int64  \n",
            " 3   trtbps    303 non-null    int64  \n",
            " 4   chol      303 non-null    int64  \n",
            " 5   fbs       303 non-null    int64  \n",
            " 6   restecg   303 non-null    int64  \n",
            " 7   thalachh  303 non-null    int64  \n",
            " 8   exng      303 non-null    int64  \n",
            " 9   oldpeak   303 non-null    float64\n",
            " 10  slp       303 non-null    int64  \n",
            " 11  caa       303 non-null    int64  \n",
            " 12  thall     303 non-null    int64  \n",
            " 13  output    303 non-null    int64  \n",
            "dtypes: float64(1), int64(13)\n",
            "memory usage: 33.3 KB\n"
          ],
          "name": "stdout"
        }
      ]
    },
    {
      "cell_type": "markdown",
      "metadata": {
        "id": "9_fGfXTjcR-O"
      },
      "source": [
        "There are no missing values in the dataset. "
      ]
    },
    {
      "cell_type": "code",
      "metadata": {
        "id": "c4uoLWt_nzuo"
      },
      "source": [
        ""
      ],
      "execution_count": null,
      "outputs": []
    },
    {
      "cell_type": "markdown",
      "metadata": {
        "id": "Wzas3uDrjY4h"
      },
      "source": [
        "Checking correlation of with output:\n"
      ]
    },
    {
      "cell_type": "code",
      "metadata": {
        "id": "YadvFh4QcbB2",
        "colab": {
          "base_uri": "https://localhost:8080/"
        },
        "outputId": "22c17a58-5149-4389-b8f8-d647c23efe3c"
      },
      "source": [
        "print(dataset.corr()[\"output\"].abs().sort_values(ascending=False))"
      ],
      "execution_count": null,
      "outputs": [
        {
          "output_type": "stream",
          "text": [
            "output      1.000000\n",
            "exng        0.436757\n",
            "cp          0.433798\n",
            "oldpeak     0.430696\n",
            "thalachh    0.421741\n",
            "caa         0.391724\n",
            "slp         0.345877\n",
            "thall       0.344029\n",
            "sex         0.280937\n",
            "age         0.225439\n",
            "trtbps      0.144931\n",
            "restecg     0.137230\n",
            "chol        0.085239\n",
            "fbs         0.028046\n",
            "Name: output, dtype: float64\n"
          ],
          "name": "stdout"
        }
      ]
    },
    {
      "cell_type": "markdown",
      "metadata": {
        "id": "8VMBgsVWj-2C"
      },
      "source": [
        "The correlation of the columns with the output is shown above. As seen, the columns are moderately correlated with the output. Maximum correlation is for exng and minimum for fbs."
      ]
    },
    {
      "cell_type": "markdown",
      "metadata": {
        "id": "BqqThEwTklWH"
      },
      "source": [
        "# **Exploratory Data Analysis**\n",
        "Analysing the target (output) variable:"
      ]
    },
    {
      "cell_type": "code",
      "metadata": {
        "colab": {
          "base_uri": "https://localhost:8080/",
          "height": 383
        },
        "id": "phB3P8t6ka5c",
        "outputId": "c36e0a59-1e7f-4a8b-f88d-a55eec6f9429"
      },
      "source": [
        "y = dataset[\"output\"]\n",
        "\n",
        "sns.countplot(y)\n",
        "\n",
        "\n",
        "output_temp = dataset.output.value_counts()\n",
        "\n",
        "print(output_temp)"
      ],
      "execution_count": null,
      "outputs": [
        {
          "output_type": "stream",
          "text": [
            "1    165\n",
            "0    138\n",
            "Name: output, dtype: int64\n"
          ],
          "name": "stdout"
        },
        {
          "output_type": "stream",
          "text": [
            "/usr/local/lib/python3.7/dist-packages/seaborn/_decorators.py:43: FutureWarning: Pass the following variable as a keyword arg: x. From version 0.12, the only valid positional argument will be `data`, and passing other arguments without an explicit keyword will result in an error or misinterpretation.\n",
            "  FutureWarning\n"
          ],
          "name": "stderr"
        },
        {
          "output_type": "display_data",
          "data": {
            "image/png": "[encoded data removed]",
            "text/plain": [
              "<Figure size 432x288 with 1 Axes>"
            ]
          },
          "metadata": {
            "tags": [],
            "needs_background": "light"
          }
        }
      ]
    },
    {
      "cell_type": "code",
      "metadata": {
        "colab": {
          "base_uri": "https://localhost:8080/"
        },
        "id": "hN_4gdTMl8eb",
        "outputId": "3722695d-81ea-42e2-9540-d7e3b3a5a7fa"
      },
      "source": [
        "print(\"Percentage of patience without heart problems: \"+str(round(output_temp[0]*100/303,2)))\n",
        "print(\"Percentage of patience with heart problems: \"+str(round(output_temp[1]*100/303,2)))"
      ],
      "execution_count": null,
      "outputs": [
        {
          "output_type": "stream",
          "text": [
            "Percentage of patience without heart problems: 45.54\n",
            "Percentage of patience with heart problems: 54.46\n"
          ],
          "name": "stdout"
        }
      ]
    },
    {
      "cell_type": "markdown",
      "metadata": {
        "id": "r2Bz_hmqle0k"
      },
      "source": [
        "We can say that the dataset is balanced and there is no class imbalance.\n"
      ]
    },
    {
      "cell_type": "markdown",
      "metadata": {
        "id": "V9VQU7nSjhF8"
      },
      "source": [
        "Correlation Matrix:"
      ]
    },
    {
      "cell_type": "code",
      "metadata": {
        "id": "Aw0bsrF2tVol",
        "colab": {
          "base_uri": "https://localhost:8080/",
          "height": 1000
        },
        "outputId": "d788b1f9-b221-4f54-834d-a723fdfc1a62"
      },
      "source": [
        "corrmat = dataset.corr()\n",
        "top_corr_features = corrmat.index\n",
        "plt.figure(figsize=(20,20))\n",
        "#plot heat map\n",
        "g=sns.heatmap(dataset[top_corr_features].corr(),annot=True,cmap=\"RdYlGn\")"
      ],
      "execution_count": null,
      "outputs": [
        {
          "output_type": "display_data",
          "data": {
            "image/png": "[encoded data removed]",
            "text/plain": [
              "<Figure size 1440x1440 with 2 Axes>"
            ]
          },
          "metadata": {
            "tags": [],
            "needs_background": "light"
          }
        }
      ]
    },
    {
      "cell_type": "markdown",
      "metadata": {
        "id": "D7cKwTvBZ9YF"
      },
      "source": [
        "**Distributions**"
      ]
    },
    {
      "cell_type": "code",
      "metadata": {
        "id": "5PHtCPnzxoCF",
        "colab": {
          "base_uri": "https://localhost:8080/",
          "height": 565
        },
        "outputId": "96451911-0510-4527-a0c1-7268eea99f2c"
      },
      "source": [
        "dataset.hist()"
      ],
      "execution_count": null,
      "outputs": [
        {
          "output_type": "execute_result",
          "data": {
            "text/plain": [
              "array([[<matplotlib.axes._subplots.AxesSubplot object at 0x7efe9e963f50>,\n",
              "        <matplotlib.axes._subplots.AxesSubplot object at 0x7eff0d28aad0>,\n",
              "        <matplotlib.axes._subplots.AxesSubplot object at 0x7efeab379b10>,\n",
              "        <matplotlib.axes._subplots.AxesSubplot object at 0x7efeabfe1150>],\n",
              "       [<matplotlib.axes._subplots.AxesSubplot object at 0x7efeac0392d0>,\n",
              "        <matplotlib.axes._subplots.AxesSubplot object at 0x7efea4fc9c50>,\n",
              "        <matplotlib.axes._subplots.AxesSubplot object at 0x7efea4f77810>,\n",
              "        <matplotlib.axes._subplots.AxesSubplot object at 0x7efeaa86a650>],\n",
              "       [<matplotlib.axes._subplots.AxesSubplot object at 0x7efeaa86a590>,\n",
              "        <matplotlib.axes._subplots.AxesSubplot object at 0x7efeaa7e9510>,\n",
              "        <matplotlib.axes._subplots.AxesSubplot object at 0x7efeac017850>,\n",
              "        <matplotlib.axes._subplots.AxesSubplot object at 0x7efea65c3710>],\n",
              "       [<matplotlib.axes._subplots.AxesSubplot object at 0x7efeab394ed0>,\n",
              "        <matplotlib.axes._subplots.AxesSubplot object at 0x7efea4befed0>,\n",
              "        <matplotlib.axes._subplots.AxesSubplot object at 0x7efea42bccd0>,\n",
              "        <matplotlib.axes._subplots.AxesSubplot object at 0x7eff05168a10>]],\n",
              "      dtype=object)"
            ]
          },
          "metadata": {
            "tags": []
          },
          "execution_count": 337
        },
        {
          "output_type": "display_data",
          "data": {
            "image/png": "[encoded data removed]",
            "text/plain": [
              "<Figure size 432x288 with 16 Axes>"
            ]
          },
          "metadata": {
            "tags": [],
            "needs_background": "light"
          }
        }
      ]
    },
    {
      "cell_type": "markdown",
      "metadata": {
        "id": "8YsZO3y0Zz1h"
      },
      "source": [
        "**Categorical features vs Output**"
      ]
    },
    {
      "cell_type": "code",
      "metadata": {
        "colab": {
          "base_uri": "https://localhost:8080/",
          "height": 349
        },
        "id": "Ko-MFtETT6NN",
        "outputId": "cae69dae-80ec-41bf-e8db-84195cab012a"
      },
      "source": [
        "sns.barplot(dataset[\"exng\"],y)"
      ],
      "execution_count": null,
      "outputs": [
        {
          "output_type": "stream",
          "text": [
            "/usr/local/lib/python3.7/dist-packages/seaborn/_decorators.py:43: FutureWarning: Pass the following variables as keyword args: x, y. From version 0.12, the only valid positional argument will be `data`, and passing other arguments without an explicit keyword will result in an error or misinterpretation.\n",
            "  FutureWarning\n"
          ],
          "name": "stderr"
        },
        {
          "output_type": "execute_result",
          "data": {
            "text/plain": [
              "<matplotlib.axes._subplots.AxesSubplot at 0x7efea65c6850>"
            ]
          },
          "metadata": {
            "tags": []
          },
          "execution_count": 338
        },
        {
          "output_type": "display_data",
          "data": {
            "image/png": "[encoded data removed]",
            "text/plain": [
              "<Figure size 432x288 with 1 Axes>"
            ]
          },
          "metadata": {
            "tags": [],
            "needs_background": "light"
          }
        }
      ]
    },
    {
      "cell_type": "code",
      "metadata": {
        "colab": {
          "base_uri": "https://localhost:8080/",
          "height": 349
        },
        "id": "UkTKO1F2UWoO",
        "outputId": "579f9a78-c042-45ef-92ab-368039ac1049"
      },
      "source": [
        "sns.barplot(dataset[\"cp\"],y)"
      ],
      "execution_count": null,
      "outputs": [
        {
          "output_type": "stream",
          "text": [
            "/usr/local/lib/python3.7/dist-packages/seaborn/_decorators.py:43: FutureWarning: Pass the following variables as keyword args: x, y. From version 0.12, the only valid positional argument will be `data`, and passing other arguments without an explicit keyword will result in an error or misinterpretation.\n",
            "  FutureWarning\n"
          ],
          "name": "stderr"
        },
        {
          "output_type": "execute_result",
          "data": {
            "text/plain": [
              "<matplotlib.axes._subplots.AxesSubplot at 0x7efea6480390>"
            ]
          },
          "metadata": {
            "tags": []
          },
          "execution_count": 339
        },
        {
          "output_type": "display_data",
          "data": {
            "image/png": "[encoded data removed]",
            "text/plain": [
              "<Figure size 432x288 with 1 Axes>"
            ]
          },
          "metadata": {
            "tags": [],
            "needs_background": "light"
          }
        }
      ]
    },
    {
      "cell_type": "code",
      "metadata": {
        "colab": {
          "base_uri": "https://localhost:8080/",
          "height": 349
        },
        "id": "W0Gnipp3UbQ1",
        "outputId": "52e90a63-6ce7-4d8a-e883-fe57edb68045"
      },
      "source": [
        "sns.barplot(dataset[\"fbs\"],y)"
      ],
      "execution_count": null,
      "outputs": [
        {
          "output_type": "stream",
          "text": [
            "/usr/local/lib/python3.7/dist-packages/seaborn/_decorators.py:43: FutureWarning: Pass the following variables as keyword args: x, y. From version 0.12, the only valid positional argument will be `data`, and passing other arguments without an explicit keyword will result in an error or misinterpretation.\n",
            "  FutureWarning\n"
          ],
          "name": "stderr"
        },
        {
          "output_type": "execute_result",
          "data": {
            "text/plain": [
              "<matplotlib.axes._subplots.AxesSubplot at 0x7efef9056b10>"
            ]
          },
          "metadata": {
            "tags": []
          },
          "execution_count": 340
        },
        {
          "output_type": "display_data",
          "data": {
            "image/png": "[encoded data removed]",
            "text/plain": [
              "<Figure size 432x288 with 1 Axes>"
            ]
          },
          "metadata": {
            "tags": [],
            "needs_background": "light"
          }
        }
      ]
    },
    {
      "cell_type": "code",
      "metadata": {
        "colab": {
          "base_uri": "https://localhost:8080/",
          "height": 349
        },
        "id": "_yKK8I90UlyN",
        "outputId": "d8a25d4e-3bc9-47cb-94e3-532ed78ae587"
      },
      "source": [
        "sns.barplot(dataset[\"sex\"],y)"
      ],
      "execution_count": null,
      "outputs": [
        {
          "output_type": "stream",
          "text": [
            "/usr/local/lib/python3.7/dist-packages/seaborn/_decorators.py:43: FutureWarning: Pass the following variables as keyword args: x, y. From version 0.12, the only valid positional argument will be `data`, and passing other arguments without an explicit keyword will result in an error or misinterpretation.\n",
            "  FutureWarning\n"
          ],
          "name": "stderr"
        },
        {
          "output_type": "execute_result",
          "data": {
            "text/plain": [
              "<matplotlib.axes._subplots.AxesSubplot at 0x7efeaa7a1190>"
            ]
          },
          "metadata": {
            "tags": []
          },
          "execution_count": 341
        },
        {
          "output_type": "display_data",
          "data": {
            "image/png": "[encoded data removed]",
            "text/plain": [
              "<Figure size 432x288 with 1 Axes>"
            ]
          },
          "metadata": {
            "tags": [],
            "needs_background": "light"
          }
        }
      ]
    },
    {
      "cell_type": "code",
      "metadata": {
        "colab": {
          "base_uri": "https://localhost:8080/",
          "height": 349
        },
        "id": "5c0fgcFGUqkt",
        "outputId": "85f9fb3a-21f5-4927-a617-38bfb2cfef8f"
      },
      "source": [
        "\n",
        "sns.barplot(dataset[\"restecg\"],y)"
      ],
      "execution_count": null,
      "outputs": [
        {
          "output_type": "stream",
          "text": [
            "/usr/local/lib/python3.7/dist-packages/seaborn/_decorators.py:43: FutureWarning: Pass the following variables as keyword args: x, y. From version 0.12, the only valid positional argument will be `data`, and passing other arguments without an explicit keyword will result in an error or misinterpretation.\n",
            "  FutureWarning\n"
          ],
          "name": "stderr"
        },
        {
          "output_type": "execute_result",
          "data": {
            "text/plain": [
              "<matplotlib.axes._subplots.AxesSubplot at 0x7efeaa84bf90>"
            ]
          },
          "metadata": {
            "tags": []
          },
          "execution_count": 342
        },
        {
          "output_type": "display_data",
          "data": {
            "image/png": "[encoded data removed]",
            "text/plain": [
              "<Figure size 432x288 with 1 Axes>"
            ]
          },
          "metadata": {
            "tags": [],
            "needs_background": "light"
          }
        }
      ]
    },
    {
      "cell_type": "code",
      "metadata": {
        "colab": {
          "base_uri": "https://localhost:8080/",
          "height": 349
        },
        "id": "md04cOVYU2UM",
        "outputId": "4735808d-829a-42cb-d0e0-de51952c7b3e"
      },
      "source": [
        "sns.barplot(dataset[\"slp\"],y)"
      ],
      "execution_count": null,
      "outputs": [
        {
          "output_type": "stream",
          "text": [
            "/usr/local/lib/python3.7/dist-packages/seaborn/_decorators.py:43: FutureWarning: Pass the following variables as keyword args: x, y. From version 0.12, the only valid positional argument will be `data`, and passing other arguments without an explicit keyword will result in an error or misinterpretation.\n",
            "  FutureWarning\n"
          ],
          "name": "stderr"
        },
        {
          "output_type": "execute_result",
          "data": {
            "text/plain": [
              "<matplotlib.axes._subplots.AxesSubplot at 0x7efea451cc50>"
            ]
          },
          "metadata": {
            "tags": []
          },
          "execution_count": 343
        },
        {
          "output_type": "display_data",
          "data": {
            "image/png": "[encoded data removed]",
            "text/plain": [
              "<Figure size 432x288 with 1 Axes>"
            ]
          },
          "metadata": {
            "tags": [],
            "needs_background": "light"
          }
        }
      ]
    },
    {
      "cell_type": "code",
      "metadata": {
        "colab": {
          "base_uri": "https://localhost:8080/",
          "height": 349
        },
        "id": "xA9PDjwbU-Ft",
        "outputId": "2c23bca4-da92-4698-ba4f-ec57e3921e7d"
      },
      "source": [
        "sns.barplot(dataset[\"caa\"],y)"
      ],
      "execution_count": null,
      "outputs": [
        {
          "output_type": "stream",
          "text": [
            "/usr/local/lib/python3.7/dist-packages/seaborn/_decorators.py:43: FutureWarning: Pass the following variables as keyword args: x, y. From version 0.12, the only valid positional argument will be `data`, and passing other arguments without an explicit keyword will result in an error or misinterpretation.\n",
            "  FutureWarning\n"
          ],
          "name": "stderr"
        },
        {
          "output_type": "execute_result",
          "data": {
            "text/plain": [
              "<matplotlib.axes._subplots.AxesSubplot at 0x7efeaaf6edd0>"
            ]
          },
          "metadata": {
            "tags": []
          },
          "execution_count": 344
        },
        {
          "output_type": "display_data",
          "data": {
            "image/png": "[encoded data removed]",
            "text/plain": [
              "<Figure size 432x288 with 1 Axes>"
            ]
          },
          "metadata": {
            "tags": [],
            "needs_background": "light"
          }
        }
      ]
    },
    {
      "cell_type": "code",
      "metadata": {
        "colab": {
          "base_uri": "https://localhost:8080/",
          "height": 349
        },
        "id": "zw4gtVRDVDWI",
        "outputId": "97378811-265f-4365-c07f-985e6b8c2791"
      },
      "source": [
        "sns.barplot(dataset[\"thall\"],y)"
      ],
      "execution_count": null,
      "outputs": [
        {
          "output_type": "stream",
          "text": [
            "/usr/local/lib/python3.7/dist-packages/seaborn/_decorators.py:43: FutureWarning: Pass the following variables as keyword args: x, y. From version 0.12, the only valid positional argument will be `data`, and passing other arguments without an explicit keyword will result in an error or misinterpretation.\n",
            "  FutureWarning\n"
          ],
          "name": "stderr"
        },
        {
          "output_type": "execute_result",
          "data": {
            "text/plain": [
              "<matplotlib.axes._subplots.AxesSubplot at 0x7efea64e7790>"
            ]
          },
          "metadata": {
            "tags": []
          },
          "execution_count": 345
        },
        {
          "output_type": "display_data",
          "data": {
            "image/png": "[encoded data removed]",
            "text/plain": [
              "<Figure size 432x288 with 1 Axes>"
            ]
          },
          "metadata": {
            "tags": [],
            "needs_background": "light"
          }
        }
      ]
    },
    {
      "cell_type": "markdown",
      "metadata": {
        "id": "7Uv5ViGgZqaL"
      },
      "source": [
        "**Density Plots**"
      ]
    },
    {
      "cell_type": "code",
      "metadata": {
        "colab": {
          "base_uri": "https://localhost:8080/",
          "height": 1000
        },
        "id": "kjKgq2bqVKSU",
        "outputId": "c2ea8948-810d-4ec2-9dc7-4e1cd1233135"
      },
      "source": [
        "for column in dataset.columns:\n",
        "  sns.distplot(dataset[column][y == 1],color=\"darkturquoise\", rug=True)\n",
        "  sns.distplot(dataset[column][y == 0], color=\"lightcoral\", rug=True);\n",
        "  plt.show()"
      ],
      "execution_count": null,
      "outputs": [
        {
          "output_type": "stream",
          "text": [
            "/usr/local/lib/python3.7/dist-packages/seaborn/distributions.py:2557: FutureWarning: `distplot` is a deprecated function and will be removed in a future version. Please adapt your code to use either `displot` (a figure-level function with similar flexibility) or `histplot` (an axes-level function for histograms).\n",
            "  warnings.warn(msg, FutureWarning)\n",
            "/usr/local/lib/python3.7/dist-packages/seaborn/distributions.py:2056: FutureWarning: The `axis` variable is no longer used and will be removed. Instead, assign variables directly to `x` or `y`.\n",
            "  warnings.warn(msg, FutureWarning)\n",
            "/usr/local/lib/python3.7/dist-packages/seaborn/distributions.py:2557: FutureWarning: `distplot` is a deprecated function and will be removed in a future version. Please adapt your code to use either `displot` (a figure-level function with similar flexibility) or `histplot` (an axes-level function for histograms).\n",
            "  warnings.warn(msg, FutureWarning)\n",
            "/usr/local/lib/python3.7/dist-packages/seaborn/distributions.py:2056: FutureWarning: The `axis` variable is no longer used and will be removed. Instead, assign variables directly to `x` or `y`.\n",
            "  warnings.warn(msg, FutureWarning)\n"
          ],
          "name": "stderr"
        },
        {
          "output_type": "display_data",
          "data": {
            "image/png": "[encoded data removed]",
            "text/plain": [
              "<Figure size 432x288 with 1 Axes>"
            ]
          },
          "metadata": {
            "tags": [],
            "needs_background": "light"
          }
        },
        {
          "output_type": "stream",
          "text": [
            "/usr/local/lib/python3.7/dist-packages/seaborn/distributions.py:2557: FutureWarning: `distplot` is a deprecated function and will be removed in a future version. Please adapt your code to use either `displot` (a figure-level function with similar flexibility) or `histplot` (an axes-level function for histograms).\n",
            "  warnings.warn(msg, FutureWarning)\n",
            "/usr/local/lib/python3.7/dist-packages/seaborn/distributions.py:2056: FutureWarning: The `axis` variable is no longer used and will be removed. Instead, assign variables directly to `x` or `y`.\n",
            "  warnings.warn(msg, FutureWarning)\n",
            "/usr/local/lib/python3.7/dist-packages/seaborn/distributions.py:2557: FutureWarning: `distplot` is a deprecated function and will be removed in a future version. Please adapt your code to use either `displot` (a figure-level function with similar flexibility) or `histplot` (an axes-level function for histograms).\n",
            "  warnings.warn(msg, FutureWarning)\n",
            "/usr/local/lib/python3.7/dist-packages/seaborn/distributions.py:2056: FutureWarning: The `axis` variable is no longer used and will be removed. Instead, assign variables directly to `x` or `y`.\n",
            "  warnings.warn(msg, FutureWarning)\n"
          ],
          "name": "stderr"
        },
        {
          "output_type": "display_data",
          "data": {
            "image/png": "[encoded data removed]",
            "text/plain": [
              "<Figure size 432x288 with 1 Axes>"
            ]
          },
          "metadata": {
            "tags": [],
            "needs_background": "light"
          }
        },
        {
          "output_type": "stream",
          "text": [
            "/usr/local/lib/python3.7/dist-packages/seaborn/distributions.py:2557: FutureWarning: `distplot` is a deprecated function and will be removed in a future version. Please adapt your code to use either `displot` (a figure-level function with similar flexibility) or `histplot` (an axes-level function for histograms).\n",
            "  warnings.warn(msg, FutureWarning)\n",
            "/usr/local/lib/python3.7/dist-packages/seaborn/distributions.py:2056: FutureWarning: The `axis` variable is no longer used and will be removed. Instead, assign variables directly to `x` or `y`.\n",
            "  warnings.warn(msg, FutureWarning)\n",
            "/usr/local/lib/python3.7/dist-packages/seaborn/distributions.py:2557: FutureWarning: `distplot` is a deprecated function and will be removed in a future version. Please adapt your code to use either `displot` (a figure-level function with similar flexibility) or `histplot` (an axes-level function for histograms).\n",
            "  warnings.warn(msg, FutureWarning)\n",
            "/usr/local/lib/python3.7/dist-packages/seaborn/distributions.py:2056: FutureWarning: The `axis` variable is no longer used and will be removed. Instead, assign variables directly to `x` or `y`.\n",
            "  warnings.warn(msg, FutureWarning)\n"
          ],
          "name": "stderr"
        },
        {
          "output_type": "display_data",
          "data": {
            "image/png": "[encoded data removed]",
            "text/plain": [
              "<Figure size 432x288 with 1 Axes>"
            ]
          },
          "metadata": {
            "tags": [],
            "needs_background": "light"
          }
        },
        {
          "output_type": "stream",
          "text": [
            "/usr/local/lib/python3.7/dist-packages/seaborn/distributions.py:2557: FutureWarning: `distplot` is a deprecated function and will be removed in a future version. Please adapt your code to use either `displot` (a figure-level function with similar flexibility) or `histplot` (an axes-level function for histograms).\n",
            "  warnings.warn(msg, FutureWarning)\n",
            "/usr/local/lib/python3.7/dist-packages/seaborn/distributions.py:2056: FutureWarning: The `axis` variable is no longer used and will be removed. Instead, assign variables directly to `x` or `y`.\n",
            "  warnings.warn(msg, FutureWarning)\n",
            "/usr/local/lib/python3.7/dist-packages/seaborn/distributions.py:2557: FutureWarning: `distplot` is a deprecated function and will be removed in a future version. Please adapt your code to use either `displot` (a figure-level function with similar flexibility) or `histplot` (an axes-level function for histograms).\n",
            "  warnings.warn(msg, FutureWarning)\n",
            "/usr/local/lib/python3.7/dist-packages/seaborn/distributions.py:2056: FutureWarning: The `axis` variable is no longer used and will be removed. Instead, assign variables directly to `x` or `y`.\n",
            "  warnings.warn(msg, FutureWarning)\n"
          ],
          "name": "stderr"
        },
        {
          "output_type": "display_data",
          "data": {
            "image/png": "[encoded data removed]",
            "text/plain": [
              "<Figure size 432x288 with 1 Axes>"
            ]
          },
          "metadata": {
            "tags": [],
            "needs_background": "light"
          }
        },
        {
          "output_type": "stream",
          "text": [
            "/usr/local/lib/python3.7/dist-packages/seaborn/distributions.py:2557: FutureWarning: `distplot` is a deprecated function and will be removed in a future version. Please adapt your code to use either `displot` (a figure-level function with similar flexibility) or `histplot` (an axes-level function for histograms).\n",
            "  warnings.warn(msg, FutureWarning)\n",
            "/usr/local/lib/python3.7/dist-packages/seaborn/distributions.py:2056: FutureWarning: The `axis` variable is no longer used and will be removed. Instead, assign variables directly to `x` or `y`.\n",
            "  warnings.warn(msg, FutureWarning)\n",
            "/usr/local/lib/python3.7/dist-packages/seaborn/distributions.py:2557: FutureWarning: `distplot` is a deprecated function and will be removed in a future version. Please adapt your code to use either `displot` (a figure-level function with similar flexibility) or `histplot` (an axes-level function for histograms).\n",
            "  warnings.warn(msg, FutureWarning)\n",
            "/usr/local/lib/python3.7/dist-packages/seaborn/distributions.py:2056: FutureWarning: The `axis` variable is no longer used and will be removed. Instead, assign variables directly to `x` or `y`.\n",
            "  warnings.warn(msg, FutureWarning)\n"
          ],
          "name": "stderr"
        },
        {
          "output_type": "display_data",
          "data": {
            "image/png": "[encoded data removed]",
            "text/plain": [
              "<Figure size 432x288 with 1 Axes>"
            ]
          },
          "metadata": {
            "tags": [],
            "needs_background": "light"
          }
        },
        {
          "output_type": "stream",
          "text": [
            "/usr/local/lib/python3.7/dist-packages/seaborn/distributions.py:2557: FutureWarning: `distplot` is a deprecated function and will be removed in a future version. Please adapt your code to use either `displot` (a figure-level function with similar flexibility) or `histplot` (an axes-level function for histograms).\n",
            "  warnings.warn(msg, FutureWarning)\n",
            "/usr/local/lib/python3.7/dist-packages/seaborn/distributions.py:2056: FutureWarning: The `axis` variable is no longer used and will be removed. Instead, assign variables directly to `x` or `y`.\n",
            "  warnings.warn(msg, FutureWarning)\n",
            "/usr/local/lib/python3.7/dist-packages/seaborn/distributions.py:2557: FutureWarning: `distplot` is a deprecated function and will be removed in a future version. Please adapt your code to use either `displot` (a figure-level function with similar flexibility) or `histplot` (an axes-level function for histograms).\n",
            "  warnings.warn(msg, FutureWarning)\n",
            "/usr/local/lib/python3.7/dist-packages/seaborn/distributions.py:2056: FutureWarning: The `axis` variable is no longer used and will be removed. Instead, assign variables directly to `x` or `y`.\n",
            "  warnings.warn(msg, FutureWarning)\n"
          ],
          "name": "stderr"
        },
        {
          "output_type": "display_data",
          "data": {
            "image/png": "[encoded data removed]",
            "text/plain": [
              "<Figure size 432x288 with 1 Axes>"
            ]
          },
          "metadata": {
            "tags": [],
            "needs_background": "light"
          }
        },
        {
          "output_type": "stream",
          "text": [
            "/usr/local/lib/python3.7/dist-packages/seaborn/distributions.py:2557: FutureWarning: `distplot` is a deprecated function and will be removed in a future version. Please adapt your code to use either `displot` (a figure-level function with similar flexibility) or `histplot` (an axes-level function for histograms).\n",
            "  warnings.warn(msg, FutureWarning)\n",
            "/usr/local/lib/python3.7/dist-packages/seaborn/distributions.py:2056: FutureWarning: The `axis` variable is no longer used and will be removed. Instead, assign variables directly to `x` or `y`.\n",
            "  warnings.warn(msg, FutureWarning)\n",
            "/usr/local/lib/python3.7/dist-packages/seaborn/distributions.py:2557: FutureWarning: `distplot` is a deprecated function and will be removed in a future version. Please adapt your code to use either `displot` (a figure-level function with similar flexibility) or `histplot` (an axes-level function for histograms).\n",
            "  warnings.warn(msg, FutureWarning)\n",
            "/usr/local/lib/python3.7/dist-packages/seaborn/distributions.py:2056: FutureWarning: The `axis` variable is no longer used and will be removed. Instead, assign variables directly to `x` or `y`.\n",
            "  warnings.warn(msg, FutureWarning)\n"
          ],
          "name": "stderr"
        },
        {
          "output_type": "display_data",
          "data": {
            "image/png": "[encoded data removed]",
            "text/plain": [
              "<Figure size 432x288 with 1 Axes>"
            ]
          },
          "metadata": {
            "tags": [],
            "needs_background": "light"
          }
        },
        {
          "output_type": "stream",
          "text": [
            "/usr/local/lib/python3.7/dist-packages/seaborn/distributions.py:2557: FutureWarning: `distplot` is a deprecated function and will be removed in a future version. Please adapt your code to use either `displot` (a figure-level function with similar flexibility) or `histplot` (an axes-level function for histograms).\n",
            "  warnings.warn(msg, FutureWarning)\n",
            "/usr/local/lib/python3.7/dist-packages/seaborn/distributions.py:2056: FutureWarning: The `axis` variable is no longer used and will be removed. Instead, assign variables directly to `x` or `y`.\n",
            "  warnings.warn(msg, FutureWarning)\n",
            "/usr/local/lib/python3.7/dist-packages/seaborn/distributions.py:2557: FutureWarning: `distplot` is a deprecated function and will be removed in a future version. Please adapt your code to use either `displot` (a figure-level function with similar flexibility) or `histplot` (an axes-level function for histograms).\n",
            "  warnings.warn(msg, FutureWarning)\n",
            "/usr/local/lib/python3.7/dist-packages/seaborn/distributions.py:2056: FutureWarning: The `axis` variable is no longer used and will be removed. Instead, assign variables directly to `x` or `y`.\n",
            "  warnings.warn(msg, FutureWarning)\n"
          ],
          "name": "stderr"
        },
        {
          "output_type": "display_data",
          "data": {
            "image/png": "[encoded data removed]",
            "text/plain": [
              "<Figure size 432x288 with 1 Axes>"
            ]
          },
          "metadata": {
            "tags": [],
            "needs_background": "light"
          }
        },
        {
          "output_type": "stream",
          "text": [
            "/usr/local/lib/python3.7/dist-packages/seaborn/distributions.py:2557: FutureWarning: `distplot` is a deprecated function and will be removed in a future version. Please adapt your code to use either `displot` (a figure-level function with similar flexibility) or `histplot` (an axes-level function for histograms).\n",
            "  warnings.warn(msg, FutureWarning)\n",
            "/usr/local/lib/python3.7/dist-packages/seaborn/distributions.py:2056: FutureWarning: The `axis` variable is no longer used and will be removed. Instead, assign variables directly to `x` or `y`.\n",
            "  warnings.warn(msg, FutureWarning)\n",
            "/usr/local/lib/python3.7/dist-packages/seaborn/distributions.py:2557: FutureWarning: `distplot` is a deprecated function and will be removed in a future version. Please adapt your code to use either `displot` (a figure-level function with similar flexibility) or `histplot` (an axes-level function for histograms).\n",
            "  warnings.warn(msg, FutureWarning)\n",
            "/usr/local/lib/python3.7/dist-packages/seaborn/distributions.py:2056: FutureWarning: The `axis` variable is no longer used and will be removed. Instead, assign variables directly to `x` or `y`.\n",
            "  warnings.warn(msg, FutureWarning)\n"
          ],
          "name": "stderr"
        },
        {
          "output_type": "display_data",
          "data": {
            "image/png": "[encoded data removed]",
            "text/plain": [
              "<Figure size 432x288 with 1 Axes>"
            ]
          },
          "metadata": {
            "tags": [],
            "needs_background": "light"
          }
        },
        {
          "output_type": "stream",
          "text": [
            "/usr/local/lib/python3.7/dist-packages/seaborn/distributions.py:2557: FutureWarning: `distplot` is a deprecated function and will be removed in a future version. Please adapt your code to use either `displot` (a figure-level function with similar flexibility) or `histplot` (an axes-level function for histograms).\n",
            "  warnings.warn(msg, FutureWarning)\n",
            "/usr/local/lib/python3.7/dist-packages/seaborn/distributions.py:2056: FutureWarning: The `axis` variable is no longer used and will be removed. Instead, assign variables directly to `x` or `y`.\n",
            "  warnings.warn(msg, FutureWarning)\n",
            "/usr/local/lib/python3.7/dist-packages/seaborn/distributions.py:2557: FutureWarning: `distplot` is a deprecated function and will be removed in a future version. Please adapt your code to use either `displot` (a figure-level function with similar flexibility) or `histplot` (an axes-level function for histograms).\n",
            "  warnings.warn(msg, FutureWarning)\n",
            "/usr/local/lib/python3.7/dist-packages/seaborn/distributions.py:2056: FutureWarning: The `axis` variable is no longer used and will be removed. Instead, assign variables directly to `x` or `y`.\n",
            "  warnings.warn(msg, FutureWarning)\n"
          ],
          "name": "stderr"
        },
        {
          "output_type": "display_data",
          "data": {
            "image/png": "[encoded data removed]",
            "text/plain": [
              "<Figure size 432x288 with 1 Axes>"
            ]
          },
          "metadata": {
            "tags": [],
            "needs_background": "light"
          }
        },
        {
          "output_type": "stream",
          "text": [
            "/usr/local/lib/python3.7/dist-packages/seaborn/distributions.py:2557: FutureWarning: `distplot` is a deprecated function and will be removed in a future version. Please adapt your code to use either `displot` (a figure-level function with similar flexibility) or `histplot` (an axes-level function for histograms).\n",
            "  warnings.warn(msg, FutureWarning)\n",
            "/usr/local/lib/python3.7/dist-packages/seaborn/distributions.py:2056: FutureWarning: The `axis` variable is no longer used and will be removed. Instead, assign variables directly to `x` or `y`.\n",
            "  warnings.warn(msg, FutureWarning)\n",
            "/usr/local/lib/python3.7/dist-packages/seaborn/distributions.py:2557: FutureWarning: `distplot` is a deprecated function and will be removed in a future version. Please adapt your code to use either `displot` (a figure-level function with similar flexibility) or `histplot` (an axes-level function for histograms).\n",
            "  warnings.warn(msg, FutureWarning)\n",
            "/usr/local/lib/python3.7/dist-packages/seaborn/distributions.py:2056: FutureWarning: The `axis` variable is no longer used and will be removed. Instead, assign variables directly to `x` or `y`.\n",
            "  warnings.warn(msg, FutureWarning)\n"
          ],
          "name": "stderr"
        },
        {
          "output_type": "display_data",
          "data": {
            "image/png": "[encoded data removed]",
            "text/plain": [
              "<Figure size 432x288 with 1 Axes>"
            ]
          },
          "metadata": {
            "tags": [],
            "needs_background": "light"
          }
        },
        {
          "output_type": "stream",
          "text": [
            "/usr/local/lib/python3.7/dist-packages/seaborn/distributions.py:2557: FutureWarning: `distplot` is a deprecated function and will be removed in a future version. Please adapt your code to use either `displot` (a figure-level function with similar flexibility) or `histplot` (an axes-level function for histograms).\n",
            "  warnings.warn(msg, FutureWarning)\n",
            "/usr/local/lib/python3.7/dist-packages/seaborn/distributions.py:2056: FutureWarning: The `axis` variable is no longer used and will be removed. Instead, assign variables directly to `x` or `y`.\n",
            "  warnings.warn(msg, FutureWarning)\n",
            "/usr/local/lib/python3.7/dist-packages/seaborn/distributions.py:2557: FutureWarning: `distplot` is a deprecated function and will be removed in a future version. Please adapt your code to use either `displot` (a figure-level function with similar flexibility) or `histplot` (an axes-level function for histograms).\n",
            "  warnings.warn(msg, FutureWarning)\n",
            "/usr/local/lib/python3.7/dist-packages/seaborn/distributions.py:2056: FutureWarning: The `axis` variable is no longer used and will be removed. Instead, assign variables directly to `x` or `y`.\n",
            "  warnings.warn(msg, FutureWarning)\n"
          ],
          "name": "stderr"
        },
        {
          "output_type": "display_data",
          "data": {
            "image/png": "[encoded data removed]",
            "text/plain": [
              "<Figure size 432x288 with 1 Axes>"
            ]
          },
          "metadata": {
            "tags": [],
            "needs_background": "light"
          }
        },
        {
          "output_type": "stream",
          "text": [
            "/usr/local/lib/python3.7/dist-packages/seaborn/distributions.py:2557: FutureWarning: `distplot` is a deprecated function and will be removed in a future version. Please adapt your code to use either `displot` (a figure-level function with similar flexibility) or `histplot` (an axes-level function for histograms).\n",
            "  warnings.warn(msg, FutureWarning)\n",
            "/usr/local/lib/python3.7/dist-packages/seaborn/distributions.py:2056: FutureWarning: The `axis` variable is no longer used and will be removed. Instead, assign variables directly to `x` or `y`.\n",
            "  warnings.warn(msg, FutureWarning)\n",
            "/usr/local/lib/python3.7/dist-packages/seaborn/distributions.py:2557: FutureWarning: `distplot` is a deprecated function and will be removed in a future version. Please adapt your code to use either `displot` (a figure-level function with similar flexibility) or `histplot` (an axes-level function for histograms).\n",
            "  warnings.warn(msg, FutureWarning)\n",
            "/usr/local/lib/python3.7/dist-packages/seaborn/distributions.py:2056: FutureWarning: The `axis` variable is no longer used and will be removed. Instead, assign variables directly to `x` or `y`.\n",
            "  warnings.warn(msg, FutureWarning)\n"
          ],
          "name": "stderr"
        },
        {
          "output_type": "display_data",
          "data": {
            "image/png": "[encoded data removed]",
            "text/plain": [
              "<Figure size 432x288 with 1 Axes>"
            ]
          },
          "metadata": {
            "tags": [],
            "needs_background": "light"
          }
        },
        {
          "output_type": "stream",
          "text": [
            "/usr/local/lib/python3.7/dist-packages/seaborn/distributions.py:2557: FutureWarning: `distplot` is a deprecated function and will be removed in a future version. Please adapt your code to use either `displot` (a figure-level function with similar flexibility) or `histplot` (an axes-level function for histograms).\n",
            "  warnings.warn(msg, FutureWarning)\n",
            "/usr/local/lib/python3.7/dist-packages/seaborn/distributions.py:306: UserWarning: Dataset has 0 variance; skipping density estimate.\n",
            "  warnings.warn(msg, UserWarning)\n",
            "/usr/local/lib/python3.7/dist-packages/seaborn/distributions.py:2056: FutureWarning: The `axis` variable is no longer used and will be removed. Instead, assign variables directly to `x` or `y`.\n",
            "  warnings.warn(msg, FutureWarning)\n",
            "/usr/local/lib/python3.7/dist-packages/seaborn/distributions.py:2557: FutureWarning: `distplot` is a deprecated function and will be removed in a future version. Please adapt your code to use either `displot` (a figure-level function with similar flexibility) or `histplot` (an axes-level function for histograms).\n",
            "  warnings.warn(msg, FutureWarning)\n",
            "/usr/local/lib/python3.7/dist-packages/seaborn/distributions.py:306: UserWarning: Dataset has 0 variance; skipping density estimate.\n",
            "  warnings.warn(msg, UserWarning)\n",
            "/usr/local/lib/python3.7/dist-packages/seaborn/distributions.py:2056: FutureWarning: The `axis` variable is no longer used and will be removed. Instead, assign variables directly to `x` or `y`.\n",
            "  warnings.warn(msg, FutureWarning)\n"
          ],
          "name": "stderr"
        },
        {
          "output_type": "display_data",
          "data": {
            "image/png": "[encoded data removed]",
            "text/plain": [
              "<Figure size 432x288 with 1 Axes>"
            ]
          },
          "metadata": {
            "tags": [],
            "needs_background": "light"
          }
        }
      ]
    },
    {
      "cell_type": "code",
      "metadata": {
        "id": "5ey7oOa2aFp1"
      },
      "source": [
        "#sns.pairplot(dataset)"
      ],
      "execution_count": null,
      "outputs": []
    },
    {
      "cell_type": "markdown",
      "metadata": {
        "id": "WYKY_pGllsQy"
      },
      "source": [
        "# **Data Preprocessing**"
      ]
    },
    {
      "cell_type": "code",
      "metadata": {
        "id": "Pafq1Se9cmuF"
      },
      "source": [
        "\n",
        "dataset = pd.get_dummies(dataset, columns = ['sex', 'cp', 'fbs', 'restecg', 'exng', 'slp', 'caa', 'thall'])\n"
      ],
      "execution_count": null,
      "outputs": []
    },
    {
      "cell_type": "code",
      "metadata": {
        "id": "Ts7BySN3IX1H"
      },
      "source": [
        "ds = dataset"
      ],
      "execution_count": null,
      "outputs": []
    },
    {
      "cell_type": "code",
      "metadata": {
        "id": "5KpgfZFSIcMh"
      },
      "source": [
        "from sklearn.model_selection import train_test_split\n",
        "Target = ds['output']\n",
        "Features  = ds.drop('output',axis = 1)\n",
        "X_train,X_test,y_train,y_test = train_test_split(Features,Target,test_size=0.2,random_state = 42)"
      ],
      "execution_count": null,
      "outputs": []
    },
    {
      "cell_type": "code",
      "metadata": {
        "id": "VYbyOBv8pYyb",
        "colab": {
          "base_uri": "https://localhost:8080/",
          "height": 222
        },
        "outputId": "bd3c8f83-19d3-4bbb-bc84-9676034e218c"
      },
      "source": [
        "from sklearn.preprocessing import StandardScaler\n",
        "standardScaler = StandardScaler()\n",
        "columns_to_scale = ['age', 'trtbps', 'chol', 'thalachh', 'oldpeak']\n",
        "dataset[columns_to_scale] = standardScaler.fit_transform(dataset[columns_to_scale])\n",
        "dataset.head()"
      ],
      "execution_count": null,
      "outputs": [
        {
          "output_type": "execute_result",
          "data": {
            "text/html": [
              "<div>\n",
              "<style scoped>\n",
              "    .dataframe tbody tr th:only-of-type {\n",
              "        vertical-align: middle;\n",
              "    }\n",
              "\n",
              "    .dataframe tbody tr th {\n",
              "        vertical-align: top;\n",
              "    }\n",
              "\n",
              "    .dataframe thead th {\n",
              "        text-align: right;\n",
              "    }\n",
              "</style>\n",
              "<table border=\"1\" class=\"dataframe\">\n",
              "  <thead>\n",
              "    <tr style=\"text-align: right;\">\n",
              "      <th></th>\n",
              "      <th>age</th>\n",
              "      <th>trtbps</th>\n",
              "      <th>chol</th>\n",
              "      <th>thalachh</th>\n",
              "      <th>oldpeak</th>\n",
              "      <th>output</th>\n",
              "      <th>sex_0</th>\n",
              "      <th>sex_1</th>\n",
              "      <th>cp_0</th>\n",
              "      <th>cp_1</th>\n",
              "      <th>cp_2</th>\n",
              "      <th>cp_3</th>\n",
              "      <th>fbs_0</th>\n",
              "      <th>fbs_1</th>\n",
              "      <th>restecg_0</th>\n",
              "      <th>restecg_1</th>\n",
              "      <th>restecg_2</th>\n",
              "      <th>exng_0</th>\n",
              "      <th>exng_1</th>\n",
              "      <th>slp_0</th>\n",
              "      <th>slp_1</th>\n",
              "      <th>slp_2</th>\n",
              "      <th>caa_0</th>\n",
              "      <th>caa_1</th>\n",
              "      <th>caa_2</th>\n",
              "      <th>caa_3</th>\n",
              "      <th>caa_4</th>\n",
              "      <th>thall_0</th>\n",
              "      <th>thall_1</th>\n",
              "      <th>thall_2</th>\n",
              "      <th>thall_3</th>\n",
              "    </tr>\n",
              "  </thead>\n",
              "  <tbody>\n",
              "    <tr>\n",
              "      <th>0</th>\n",
              "      <td>0.952197</td>\n",
              "      <td>0.763956</td>\n",
              "      <td>-0.256334</td>\n",
              "      <td>0.015443</td>\n",
              "      <td>1.087338</td>\n",
              "      <td>1</td>\n",
              "      <td>0</td>\n",
              "      <td>1</td>\n",
              "      <td>0</td>\n",
              "      <td>0</td>\n",
              "      <td>0</td>\n",
              "      <td>1</td>\n",
              "      <td>0</td>\n",
              "      <td>1</td>\n",
              "      <td>1</td>\n",
              "      <td>0</td>\n",
              "      <td>0</td>\n",
              "      <td>1</td>\n",
              "      <td>0</td>\n",
              "      <td>1</td>\n",
              "      <td>0</td>\n",
              "      <td>0</td>\n",
              "      <td>1</td>\n",
              "      <td>0</td>\n",
              "      <td>0</td>\n",
              "      <td>0</td>\n",
              "      <td>0</td>\n",
              "      <td>0</td>\n",
              "      <td>1</td>\n",
              "      <td>0</td>\n",
              "      <td>0</td>\n",
              "    </tr>\n",
              "    <tr>\n",
              "      <th>1</th>\n",
              "      <td>-1.915313</td>\n",
              "      <td>-0.092738</td>\n",
              "      <td>0.072199</td>\n",
              "      <td>1.633471</td>\n",
              "      <td>2.122573</td>\n",
              "      <td>1</td>\n",
              "      <td>0</td>\n",
              "      <td>1</td>\n",
              "      <td>0</td>\n",
              "      <td>0</td>\n",
              "      <td>1</td>\n",
              "      <td>0</td>\n",
              "      <td>1</td>\n",
              "      <td>0</td>\n",
              "      <td>0</td>\n",
              "      <td>1</td>\n",
              "      <td>0</td>\n",
              "      <td>1</td>\n",
              "      <td>0</td>\n",
              "      <td>1</td>\n",
              "      <td>0</td>\n",
              "      <td>0</td>\n",
              "      <td>1</td>\n",
              "      <td>0</td>\n",
              "      <td>0</td>\n",
              "      <td>0</td>\n",
              "      <td>0</td>\n",
              "      <td>0</td>\n",
              "      <td>0</td>\n",
              "      <td>1</td>\n",
              "      <td>0</td>\n",
              "    </tr>\n",
              "    <tr>\n",
              "      <th>2</th>\n",
              "      <td>-1.474158</td>\n",
              "      <td>-0.092738</td>\n",
              "      <td>-0.816773</td>\n",
              "      <td>0.977514</td>\n",
              "      <td>0.310912</td>\n",
              "      <td>1</td>\n",
              "      <td>1</td>\n",
              "      <td>0</td>\n",
              "      <td>0</td>\n",
              "      <td>1</td>\n",
              "      <td>0</td>\n",
              "      <td>0</td>\n",
              "      <td>1</td>\n",
              "      <td>0</td>\n",
              "      <td>1</td>\n",
              "      <td>0</td>\n",
              "      <td>0</td>\n",
              "      <td>1</td>\n",
              "      <td>0</td>\n",
              "      <td>0</td>\n",
              "      <td>0</td>\n",
              "      <td>1</td>\n",
              "      <td>1</td>\n",
              "      <td>0</td>\n",
              "      <td>0</td>\n",
              "      <td>0</td>\n",
              "      <td>0</td>\n",
              "      <td>0</td>\n",
              "      <td>0</td>\n",
              "      <td>1</td>\n",
              "      <td>0</td>\n",
              "    </tr>\n",
              "    <tr>\n",
              "      <th>3</th>\n",
              "      <td>0.180175</td>\n",
              "      <td>-0.663867</td>\n",
              "      <td>-0.198357</td>\n",
              "      <td>1.239897</td>\n",
              "      <td>-0.206705</td>\n",
              "      <td>1</td>\n",
              "      <td>0</td>\n",
              "      <td>1</td>\n",
              "      <td>0</td>\n",
              "      <td>1</td>\n",
              "      <td>0</td>\n",
              "      <td>0</td>\n",
              "      <td>1</td>\n",
              "      <td>0</td>\n",
              "      <td>0</td>\n",
              "      <td>1</td>\n",
              "      <td>0</td>\n",
              "      <td>1</td>\n",
              "      <td>0</td>\n",
              "      <td>0</td>\n",
              "      <td>0</td>\n",
              "      <td>1</td>\n",
              "      <td>1</td>\n",
              "      <td>0</td>\n",
              "      <td>0</td>\n",
              "      <td>0</td>\n",
              "      <td>0</td>\n",
              "      <td>0</td>\n",
              "      <td>0</td>\n",
              "      <td>1</td>\n",
              "      <td>0</td>\n",
              "    </tr>\n",
              "    <tr>\n",
              "      <th>4</th>\n",
              "      <td>0.290464</td>\n",
              "      <td>-0.663867</td>\n",
              "      <td>2.082050</td>\n",
              "      <td>0.583939</td>\n",
              "      <td>-0.379244</td>\n",
              "      <td>1</td>\n",
              "      <td>1</td>\n",
              "      <td>0</td>\n",
              "      <td>1</td>\n",
              "      <td>0</td>\n",
              "      <td>0</td>\n",
              "      <td>0</td>\n",
              "      <td>1</td>\n",
              "      <td>0</td>\n",
              "      <td>0</td>\n",
              "      <td>1</td>\n",
              "      <td>0</td>\n",
              "      <td>0</td>\n",
              "      <td>1</td>\n",
              "      <td>0</td>\n",
              "      <td>0</td>\n",
              "      <td>1</td>\n",
              "      <td>1</td>\n",
              "      <td>0</td>\n",
              "      <td>0</td>\n",
              "      <td>0</td>\n",
              "      <td>0</td>\n",
              "      <td>0</td>\n",
              "      <td>0</td>\n",
              "      <td>1</td>\n",
              "      <td>0</td>\n",
              "    </tr>\n",
              "  </tbody>\n",
              "</table>\n",
              "</div>"
            ],
            "text/plain": [
              "        age    trtbps      chol  thalachh  ...  thall_0  thall_1  thall_2  thall_3\n",
              "0  0.952197  0.763956 -0.256334  0.015443  ...        0        1        0        0\n",
              "1 -1.915313 -0.092738  0.072199  1.633471  ...        0        0        1        0\n",
              "2 -1.474158 -0.092738 -0.816773  0.977514  ...        0        0        1        0\n",
              "3  0.180175 -0.663867 -0.198357  1.239897  ...        0        0        1        0\n",
              "4  0.290464 -0.663867  2.082050  0.583939  ...        0        0        1        0\n",
              "\n",
              "[5 rows x 31 columns]"
            ]
          },
          "metadata": {
            "tags": []
          },
          "execution_count": 351
        }
      ]
    },
    {
      "cell_type": "code",
      "metadata": {
        "id": "PbuusWnIqty_"
      },
      "source": [
        "Y = dataset['output']\n",
        "X = dataset.drop(['output'], axis = 1)\n"
      ],
      "execution_count": null,
      "outputs": []
    },
    {
      "cell_type": "code",
      "metadata": {
        "colab": {
          "base_uri": "https://localhost:8080/"
        },
        "id": "knwwB7HIJzbL",
        "outputId": "13286e23-be46-4809-8f67-b9fa9b08f47a"
      },
      "source": [
        "X_train[columns_to_scale] = standardScaler.fit_transform(X_train[columns_to_scale])\n",
        "X_test[columns_to_scale] = standardScaler.fit_transform(X_test[columns_to_scale])\n"
      ],
      "execution_count": null,
      "outputs": [
        {
          "output_type": "stream",
          "text": [
            "/usr/local/lib/python3.7/dist-packages/ipykernel_launcher.py:1: SettingWithCopyWarning: \n",
            "A value is trying to be set on a copy of a slice from a DataFrame.\n",
            "Try using .loc[row_indexer,col_indexer] = value instead\n",
            "\n",
            "See the caveats in the documentation: https://pandas.pydata.org/pandas-docs/stable/user_guide/indexing.html#returning-a-view-versus-a-copy\n",
            "  \"\"\"Entry point for launching an IPython kernel.\n",
            "/usr/local/lib/python3.7/dist-packages/pandas/core/indexing.py:1734: SettingWithCopyWarning: \n",
            "A value is trying to be set on a copy of a slice from a DataFrame.\n",
            "Try using .loc[row_indexer,col_indexer] = value instead\n",
            "\n",
            "See the caveats in the documentation: https://pandas.pydata.org/pandas-docs/stable/user_guide/indexing.html#returning-a-view-versus-a-copy\n",
            "  isetter(loc, value[:, i].tolist())\n",
            "/usr/local/lib/python3.7/dist-packages/ipykernel_launcher.py:2: SettingWithCopyWarning: \n",
            "A value is trying to be set on a copy of a slice from a DataFrame.\n",
            "Try using .loc[row_indexer,col_indexer] = value instead\n",
            "\n",
            "See the caveats in the documentation: https://pandas.pydata.org/pandas-docs/stable/user_guide/indexing.html#returning-a-view-versus-a-copy\n",
            "  \n",
            "/usr/local/lib/python3.7/dist-packages/pandas/core/indexing.py:1734: SettingWithCopyWarning: \n",
            "A value is trying to be set on a copy of a slice from a DataFrame.\n",
            "Try using .loc[row_indexer,col_indexer] = value instead\n",
            "\n",
            "See the caveats in the documentation: https://pandas.pydata.org/pandas-docs/stable/user_guide/indexing.html#returning-a-view-versus-a-copy\n",
            "  isetter(loc, value[:, i].tolist())\n"
          ],
          "name": "stderr"
        }
      ]
    },
    {
      "cell_type": "markdown",
      "metadata": {
        "id": "bZdxU-YpFF63"
      },
      "source": [
        "# **Models**"
      ]
    },
    {
      "cell_type": "code",
      "metadata": {
        "id": "uJj472RdUo9U"
      },
      "source": [
        "from sklearn.model_selection import cross_val_score\n",
        "from sklearn.linear_model import LogisticRegression\n",
        "from sklearn import svm\n",
        "from sklearn.neighbors import KNeighborsClassifier\n",
        "from sklearn.tree import DecisionTreeClassifier\n",
        "from sklearn.ensemble import RandomForestClassifier\n",
        "from sklearn.naive_bayes import GaussianNB\n",
        "\n",
        "\n"
      ],
      "execution_count": null,
      "outputs": []
    },
    {
      "cell_type": "markdown",
      "metadata": {
        "id": "bQwupqQ5FRjW"
      },
      "source": [
        "Logistic Regression"
      ]
    },
    {
      "cell_type": "code",
      "metadata": {
        "id": "Dd4ZH8QibmCC"
      },
      "source": [
        "mean_acc_scores = []\n",
        "mean_f1_scores = [] \n",
        "algorithms = []"
      ],
      "execution_count": null,
      "outputs": []
    },
    {
      "cell_type": "code",
      "metadata": {
        "id": "e3KqwSymcji0",
        "colab": {
          "base_uri": "https://localhost:8080/"
        },
        "outputId": "4bc1708c-9d98-4416-859f-f3e0360e7a8d"
      },
      "source": [
        "lr = LogisticRegression()\n",
        "model_scorelr_f1 =cross_val_score(estimator=lr,X=X,y=Y,scoring='f1', cv=10)\n",
        "algorithms.append('lr')\n",
        "print(model_scorelr_f1)\n",
        "print(model_scorelr_f1.mean())\n",
        "model_scorelr_acc =cross_val_score(estimator=LogisticRegression(),X=X,y=Y, cv=10)\n",
        "print(model_scorelr_acc)\n",
        "print(model_scorelr_acc.mean())\n",
        "mean_acc_scores.append(model_scorelr_acc.mean())\n",
        "mean_f1_scores.append(model_scorelr_f1.mean())"
      ],
      "execution_count": null,
      "outputs": [
        {
          "output_type": "stream",
          "text": [
            "[0.91891892 0.91428571 0.85714286 0.9375     0.88888889 0.74074074\n",
            " 0.875      0.90909091 0.8        0.78787879]\n",
            "0.8629446816946815\n",
            "[0.90322581 0.90322581 0.83870968 0.93333333 0.86666667 0.76666667\n",
            " 0.86666667 0.9        0.76666667 0.76666667]\n",
            "0.8511827956989247\n"
          ],
          "name": "stdout"
        }
      ]
    },
    {
      "cell_type": "markdown",
      "metadata": {
        "id": "qXZZOZjtKde6"
      },
      "source": [
        "Logistic Regression train test"
      ]
    },
    {
      "cell_type": "code",
      "metadata": {
        "colab": {
          "base_uri": "https://localhost:8080/"
        },
        "id": "hNWLzs7dKb65",
        "outputId": "89d6540f-e431-4407-95cd-457ae9287efc"
      },
      "source": [
        "lr = LogisticRegression()\n",
        "lr.fit(X_train,y_train)\n",
        "y_pred = lr.predict(X_test)\n",
        "from sklearn.metrics import f1_score\n",
        "from sklearn.metrics import accuracy_score\n",
        "acc = accuracy_score(y_test,y_pred)\n",
        "f1 = f1_score(y_test,y_pred)\n",
        "print(acc)\n",
        "print(f1)"
      ],
      "execution_count": null,
      "outputs": [
        {
          "output_type": "stream",
          "text": [
            "0.8852459016393442\n",
            "0.8888888888888888\n"
          ],
          "name": "stdout"
        }
      ]
    },
    {
      "cell_type": "markdown",
      "metadata": {
        "id": "qtNO_m_GFVE_"
      },
      "source": [
        "SVM:"
      ]
    },
    {
      "cell_type": "code",
      "metadata": {
        "id": "NuNW_v193Pq0",
        "colab": {
          "base_uri": "https://localhost:8080/"
        },
        "outputId": "7898bec5-8144-4b48-c2f1-0dd12a1d2865"
      },
      "source": [
        "model_scoresvm =cross_val_score(estimator=svm.SVC(C=1, kernel='linear'),X=X,y=Y, cv=10)\n",
        "print(model_scoresvm)\n",
        "print(model_scoresvm.mean())"
      ],
      "execution_count": null,
      "outputs": [
        {
          "output_type": "stream",
          "text": [
            "[0.87096774 0.90322581 0.80645161 0.9        0.83333333 0.83333333\n",
            " 0.9        0.76666667 0.76666667 0.73333333]\n",
            "0.8313978494623656\n"
          ],
          "name": "stdout"
        }
      ]
    },
    {
      "cell_type": "code",
      "metadata": {
        "id": "dcAWrcQ-EVcD",
        "colab": {
          "base_uri": "https://localhost:8080/"
        },
        "outputId": "76f6b678-6ffc-4b65-d302-ad7ed038dbd3"
      },
      "source": [
        "model_scoresvm_p =cross_val_score(estimator=svm.SVC(C=1, kernel='poly'),X=X,y=Y, cv=10)\n",
        "print(model_scoresvm_p)\n",
        "print(model_scoresvm_p.mean())"
      ],
      "execution_count": null,
      "outputs": [
        {
          "output_type": "stream",
          "text": [
            "[0.90322581 0.87096774 0.87096774 0.93333333 0.83333333 0.86666667\n",
            " 0.8        0.8        0.73333333 0.83333333]\n",
            "0.844516129032258\n"
          ],
          "name": "stdout"
        }
      ]
    },
    {
      "cell_type": "code",
      "metadata": {
        "id": "reQyv64tEhzJ",
        "colab": {
          "base_uri": "https://localhost:8080/"
        },
        "outputId": "6f7cbfb3-baa9-403f-ced8-e662f55651b2"
      },
      "source": [
        "sv = svm.SVC(C=1, kernel='sigmoid')\n",
        "model_scoresvm_s_f1 =cross_val_score(estimator=sv,X=X,y=Y,scoring='f1',cv=10)\n",
        "algorithms.append('sv')\n",
        "print(model_scoresvm_s_f1)\n",
        "print(model_scoresvm_s_f1.mean())\n",
        "model_scoresvm_s_acc =cross_val_score(estimator=svm.SVC(C=1, kernel='sigmoid'),X=X,y=Y, cv=10)\n",
        "print(model_scoresvm_s_acc)\n",
        "print(model_scoresvm_s_acc.mean())\n",
        "mean_acc_scores.append(model_scoresvm_s_acc.mean())\n",
        "mean_f1_scores.append(model_scoresvm_s_f1.mean())"
      ],
      "execution_count": null,
      "outputs": [
        {
          "output_type": "stream",
          "text": [
            "[0.88888889 0.82352941 0.88888889 0.96969697 0.85714286 0.71428571\n",
            " 0.90909091 0.88235294 0.82352941 0.8125    ]\n",
            "0.8569905992700111\n",
            "[0.87096774 0.80645161 0.87096774 0.96666667 0.83333333 0.73333333\n",
            " 0.9        0.86666667 0.8        0.8       ]\n",
            "0.8448387096774193\n"
          ],
          "name": "stdout"
        }
      ]
    },
    {
      "cell_type": "markdown",
      "metadata": {
        "id": "_gmISlkTLwYq"
      },
      "source": [
        "Test train"
      ]
    },
    {
      "cell_type": "code",
      "metadata": {
        "colab": {
          "base_uri": "https://localhost:8080/"
        },
        "id": "d-c7EthDLvnv",
        "outputId": "9d1864a7-8f4c-4ff2-e224-c5cf6aff7a53"
      },
      "source": [
        "sv = svm.SVC(C=1, kernel='sigmoid')\n",
        "sv.fit(X_train,y_train)\n",
        "y_pred_sv = sv.predict(X_test)\n",
        "from sklearn.metrics import f1_score\n",
        "from sklearn.metrics import accuracy_score\n",
        "acc_sv = accuracy_score(y_test,y_pred_sv)\n",
        "f1_sv = f1_score(y_test,y_pred_sv)\n",
        "print(acc_sv)\n",
        "print(f1_sv)"
      ],
      "execution_count": null,
      "outputs": [
        {
          "output_type": "stream",
          "text": [
            "0.8852459016393442\n",
            "0.8852459016393444\n"
          ],
          "name": "stdout"
        }
      ]
    },
    {
      "cell_type": "code",
      "metadata": {
        "id": "7ozTTr3HE9NV",
        "colab": {
          "base_uri": "https://localhost:8080/"
        },
        "outputId": "17815a64-df83-4dd3-f04c-9f04a9f8372e"
      },
      "source": [
        "model_scoresvm_r =cross_val_score(estimator=svm.SVC(C=1, kernel='rbf'),X=X,y=Y, cv=10)\n",
        "print(model_scoresvm_r)\n",
        "print(model_scoresvm_r.mean())"
      ],
      "execution_count": null,
      "outputs": [
        {
          "output_type": "stream",
          "text": [
            "[0.90322581 0.83870968 0.87096774 0.96666667 0.83333333 0.8\n",
            " 0.83333333 0.83333333 0.73333333 0.76666667]\n",
            "0.8379569892473118\n"
          ],
          "name": "stdout"
        }
      ]
    },
    {
      "cell_type": "markdown",
      "metadata": {
        "id": "x2iFy_u6FbUx"
      },
      "source": [
        "KNN:"
      ]
    },
    {
      "cell_type": "code",
      "metadata": {
        "id": "9Z49BCTj6tB7"
      },
      "source": [
        "knn_scores = []\n",
        "for k in range(1,15):\n",
        "    knn_classifier = KNeighborsClassifier(n_neighbors = k)\n",
        "    score=cross_val_score(knn_classifier,X,Y,cv=10)\n",
        "    knn_scores.append(score.mean())"
      ],
      "execution_count": null,
      "outputs": []
    },
    {
      "cell_type": "code",
      "metadata": {
        "id": "8ozf5orX62ua",
        "colab": {
          "base_uri": "https://localhost:8080/",
          "height": 638
        },
        "outputId": "54834a18-ebe0-47ad-fd7e-f717aeca2191"
      },
      "source": [
        "plt.figure(figsize=(20,10))\n",
        "plt.plot([k for k in range(1,15)], knn_scores, color = 'red')\n",
        "for i in range(1,15):\n",
        "    j = round(knn_scores[i-1],7)\n",
        "    plt.text(i, j , (i,j))\n",
        "plt.xticks([i for i in range(1,15)])\n",
        "plt.xlabel('Number of Neighbors (K)')\n",
        "plt.ylabel('Scores')\n",
        "plt.title('K Neighbors Classifier scores for different K values')"
      ],
      "execution_count": null,
      "outputs": [
        {
          "output_type": "execute_result",
          "data": {
            "text/plain": [
              "Text(0.5, 1.0, 'K Neighbors Classifier scores for different K values')"
            ]
          },
          "metadata": {
            "tags": []
          },
          "execution_count": 364
        },
        {
          "output_type": "display_data",
          "data": {
            "image/png": "[encoded data removed]",
            "text/plain": [
              "<Figure size 1440x720 with 1 Axes>"
            ]
          },
          "metadata": {
            "tags": [],
            "needs_background": "light"
          }
        }
      ]
    },
    {
      "cell_type": "code",
      "metadata": {
        "id": "htkR6FbjDOuc",
        "colab": {
          "base_uri": "https://localhost:8080/"
        },
        "outputId": "c8ac6b56-850c-4f14-9135-099094ef19f2"
      },
      "source": [
        "knn_classifier = KNeighborsClassifier(n_neighbors = 9)\n",
        "algorithms.append('knn')\n",
        "score_knn_f1 = cross_val_score(knn_classifier,X,Y,scoring='f1',cv=10)\n",
        "print(score_knn_f1)\n",
        "print(score_knn_f1.mean())\n",
        "score_knn_acc = cross_val_score(knn_classifier,X,Y,scoring='accuracy',cv=10)\n",
        "print(score_knn_acc)\n",
        "print(score_knn_acc.mean())\n",
        "mean_acc_scores.append(score_knn_acc.mean())\n",
        "mean_f1_scores.append(score_knn_f1.mean())"
      ],
      "execution_count": null,
      "outputs": [
        {
          "output_type": "stream",
          "text": [
            "[0.91891892 0.8        0.85714286 0.9375     0.91428571 0.77419355\n",
            " 0.90322581 0.84848485 0.76470588 0.875     ]\n",
            "0.8593457576023991\n",
            "[0.90322581 0.77419355 0.83870968 0.93333333 0.9        0.76666667\n",
            " 0.9        0.83333333 0.73333333 0.86666667]\n",
            "0.8449462365591398\n"
          ],
          "name": "stdout"
        }
      ]
    },
    {
      "cell_type": "markdown",
      "metadata": {
        "id": "Kg7wx7G_MQMl"
      },
      "source": [
        "test train\n"
      ]
    },
    {
      "cell_type": "code",
      "metadata": {
        "colab": {
          "base_uri": "https://localhost:8080/"
        },
        "id": "-2k4Rw5AMdJX",
        "outputId": "65a07283-1c71-4cbf-8a6e-8310a4182b18"
      },
      "source": [
        "\n",
        "knn_classifier.fit(X_train,y_train)\n",
        "y_pred_knn = knn_classifier.predict(X_test)\n",
        "from sklearn.metrics import f1_score\n",
        "from sklearn.metrics import accuracy_score\n",
        "acc_knn = accuracy_score(y_test,y_pred_knn)\n",
        "f1_knn = f1_score(y_test,y_pred_knn)\n",
        "print(acc_knn)\n",
        "print(f1_knn)"
      ],
      "execution_count": null,
      "outputs": [
        {
          "output_type": "stream",
          "text": [
            "0.8688524590163934\n",
            "0.8787878787878787\n"
          ],
          "name": "stdout"
        }
      ]
    },
    {
      "cell_type": "code",
      "metadata": {
        "id": "_XOOHB9nMTNO"
      },
      "source": [
        ""
      ],
      "execution_count": null,
      "outputs": []
    },
    {
      "cell_type": "markdown",
      "metadata": {
        "id": "YeKz0bbZFdyA"
      },
      "source": [
        "Decision Tree:"
      ]
    },
    {
      "cell_type": "code",
      "metadata": {
        "id": "wrWm1DI_D5tH",
        "colab": {
          "base_uri": "https://localhost:8080/"
        },
        "outputId": "949cd670-49d3-4411-fae4-f81e5a3d6543"
      },
      "source": [
        "dt_classifier = DecisionTreeClassifier(random_state=0)\n",
        "score_dt_f1 = cross_val_score(dt_classifier,X,y,scoring='f1',cv=10)\n",
        "print(score_dt_f1)\n",
        "print(score_dt_f1.mean())\n",
        "score_dt_acc = cross_val_score(dt_classifier,X,y,scoring='accuracy',cv=10)\n",
        "print(score_dt_acc)\n",
        "print(score_dt_acc.mean())\n"
      ],
      "execution_count": null,
      "outputs": [
        {
          "output_type": "stream",
          "text": [
            "[0.87179487 0.77419355 0.82352941 0.83870968 0.72727273 0.73333333\n",
            " 0.58823529 0.86486486 0.76470588 0.78787879]\n",
            "0.7774518399186331\n",
            "[0.83870968 0.77419355 0.80645161 0.83333333 0.7        0.73333333\n",
            " 0.53333333 0.83333333 0.73333333 0.76666667]\n",
            "0.7552688172043011\n"
          ],
          "name": "stdout"
        }
      ]
    },
    {
      "cell_type": "code",
      "metadata": {
        "id": "XBFb-mFoJZVG",
        "colab": {
          "base_uri": "https://localhost:8080/"
        },
        "outputId": "9b72154c-9edc-40dd-dcd7-3a19965c1f7d"
      },
      "source": [
        "# step-1: create a cross-validation scheme\n",
        "from sklearn.model_selection import KFold\n",
        "folds = KFold(n_splits = 10, shuffle = True, random_state = 100)\n",
        "\n",
        "# step-2: specify range of hyperparameters to tune\n",
        "hyper_params = [{'n_features_to_select': list(range(1,14))}]\n",
        "\n",
        "\n",
        "# step-3: perform grid search\n",
        "# 3.1 specify model\n",
        "dt_classifier.fit(X, y)\n",
        "from sklearn.feature_selection import RFE\n",
        "rfe = RFE(dt_classifier)             \n",
        "\n",
        "# 3.2 call GridSearchCV()\n",
        "from sklearn.model_selection import GridSearchCV\n",
        "model_cv = GridSearchCV(estimator = rfe, \n",
        "                        param_grid = hyper_params, \n",
        "                        scoring= 'f1', \n",
        "                        cv = folds, \n",
        "                        verbose = 1,\n",
        "                        return_train_score=True)      \n",
        "\n",
        "# fit the model\n",
        "model_cv.fit(X, y)                  "
      ],
      "execution_count": null,
      "outputs": [
        {
          "output_type": "stream",
          "text": [
            "Fitting 10 folds for each of 13 candidates, totalling 130 fits\n"
          ],
          "name": "stdout"
        },
        {
          "output_type": "stream",
          "text": [
            "[Parallel(n_jobs=1)]: Using backend SequentialBackend with 1 concurrent workers.\n",
            "[Parallel(n_jobs=1)]: Done 130 out of 130 | elapsed:    6.0s finished\n"
          ],
          "name": "stderr"
        },
        {
          "output_type": "execute_result",
          "data": {
            "text/plain": [
              "GridSearchCV(cv=KFold(n_splits=10, random_state=100, shuffle=True),\n",
              "             error_score=nan,\n",
              "             estimator=RFE(estimator=DecisionTreeClassifier(ccp_alpha=0.0,\n",
              "                                                            class_weight=None,\n",
              "                                                            criterion='gini',\n",
              "                                                            max_depth=None,\n",
              "                                                            max_features=None,\n",
              "                                                            max_leaf_nodes=None,\n",
              "                                                            min_impurity_decrease=0.0,\n",
              "                                                            min_impurity_split=None,\n",
              "                                                            min_samples_leaf=1,\n",
              "                                                            min_samples_split=2,\n",
              "                                                            min_weight_fraction_leaf=0.0,\n",
              "                                                            presort='deprecated',\n",
              "                                                            random_state=0,\n",
              "                                                            splitter='best'),\n",
              "                           n_features_to_select=None, step=1, verbose=0),\n",
              "             iid='deprecated', n_jobs=None,\n",
              "             param_grid=[{'n_features_to_select': [1, 2, 3, 4, 5, 6, 7, 8, 9,\n",
              "                                                   10, 11, 12, 13]}],\n",
              "             pre_dispatch='2*n_jobs', refit=True, return_train_score=True,\n",
              "             scoring='f1', verbose=1)"
            ]
          },
          "metadata": {
            "tags": []
          },
          "execution_count": 368
        }
      ]
    },
    {
      "cell_type": "code",
      "metadata": {
        "id": "iPHXrvOwNVOI",
        "colab": {
          "base_uri": "https://localhost:8080/",
          "height": 685
        },
        "outputId": "92bf4ae8-8300-448d-a3c2-f0bdb511347c"
      },
      "source": [
        "# cv results\n",
        "cv_results = pd.DataFrame(model_cv.cv_results_)\n",
        "cv_results"
      ],
      "execution_count": null,
      "outputs": [
        {
          "output_type": "execute_result",
          "data": {
            "text/html": [
              "<div>\n",
              "<style scoped>\n",
              "    .dataframe tbody tr th:only-of-type {\n",
              "        vertical-align: middle;\n",
              "    }\n",
              "\n",
              "    .dataframe tbody tr th {\n",
              "        vertical-align: top;\n",
              "    }\n",
              "\n",
              "    .dataframe thead th {\n",
              "        text-align: right;\n",
              "    }\n",
              "</style>\n",
              "<table border=\"1\" class=\"dataframe\">\n",
              "  <thead>\n",
              "    <tr style=\"text-align: right;\">\n",
              "      <th></th>\n",
              "      <th>mean_fit_time</th>\n",
              "      <th>std_fit_time</th>\n",
              "      <th>mean_score_time</th>\n",
              "      <th>std_score_time</th>\n",
              "      <th>param_n_features_to_select</th>\n",
              "      <th>params</th>\n",
              "      <th>split0_test_score</th>\n",
              "      <th>split1_test_score</th>\n",
              "      <th>split2_test_score</th>\n",
              "      <th>split3_test_score</th>\n",
              "      <th>split4_test_score</th>\n",
              "      <th>split5_test_score</th>\n",
              "      <th>split6_test_score</th>\n",
              "      <th>split7_test_score</th>\n",
              "      <th>split8_test_score</th>\n",
              "      <th>split9_test_score</th>\n",
              "      <th>mean_test_score</th>\n",
              "      <th>std_test_score</th>\n",
              "      <th>rank_test_score</th>\n",
              "      <th>split0_train_score</th>\n",
              "      <th>split1_train_score</th>\n",
              "      <th>split2_train_score</th>\n",
              "      <th>split3_train_score</th>\n",
              "      <th>split4_train_score</th>\n",
              "      <th>split5_train_score</th>\n",
              "      <th>split6_train_score</th>\n",
              "      <th>split7_train_score</th>\n",
              "      <th>split8_train_score</th>\n",
              "      <th>split9_train_score</th>\n",
              "      <th>mean_train_score</th>\n",
              "      <th>std_train_score</th>\n",
              "    </tr>\n",
              "  </thead>\n",
              "  <tbody>\n",
              "    <tr>\n",
              "      <th>0</th>\n",
              "      <td>0.050492</td>\n",
              "      <td>0.002293</td>\n",
              "      <td>0.001881</td>\n",
              "      <td>0.000039</td>\n",
              "      <td>1</td>\n",
              "      <td>{'n_features_to_select': 1}</td>\n",
              "      <td>0.538462</td>\n",
              "      <td>0.722222</td>\n",
              "      <td>0.800000</td>\n",
              "      <td>0.594595</td>\n",
              "      <td>0.500000</td>\n",
              "      <td>0.588235</td>\n",
              "      <td>0.700000</td>\n",
              "      <td>0.580645</td>\n",
              "      <td>0.600000</td>\n",
              "      <td>0.647059</td>\n",
              "      <td>0.627122</td>\n",
              "      <td>0.086097</td>\n",
              "      <td>13</td>\n",
              "      <td>0.836237</td>\n",
              "      <td>0.819188</td>\n",
              "      <td>0.783505</td>\n",
              "      <td>0.786207</td>\n",
              "      <td>0.750000</td>\n",
              "      <td>0.807843</td>\n",
              "      <td>0.773519</td>\n",
              "      <td>0.820513</td>\n",
              "      <td>0.840989</td>\n",
              "      <td>0.816479</td>\n",
              "      <td>0.803448</td>\n",
              "      <td>0.027677</td>\n",
              "    </tr>\n",
              "    <tr>\n",
              "      <th>1</th>\n",
              "      <td>0.047673</td>\n",
              "      <td>0.001840</td>\n",
              "      <td>0.001864</td>\n",
              "      <td>0.000026</td>\n",
              "      <td>2</td>\n",
              "      <td>{'n_features_to_select': 2}</td>\n",
              "      <td>0.437500</td>\n",
              "      <td>0.777778</td>\n",
              "      <td>0.717949</td>\n",
              "      <td>0.625000</td>\n",
              "      <td>0.666667</td>\n",
              "      <td>0.789474</td>\n",
              "      <td>0.684211</td>\n",
              "      <td>0.562500</td>\n",
              "      <td>0.600000</td>\n",
              "      <td>0.727273</td>\n",
              "      <td>0.658835</td>\n",
              "      <td>0.101476</td>\n",
              "      <td>12</td>\n",
              "      <td>0.993464</td>\n",
              "      <td>0.993197</td>\n",
              "      <td>0.801444</td>\n",
              "      <td>0.993197</td>\n",
              "      <td>0.841727</td>\n",
              "      <td>0.993007</td>\n",
              "      <td>0.958042</td>\n",
              "      <td>0.914894</td>\n",
              "      <td>0.926667</td>\n",
              "      <td>0.996587</td>\n",
              "      <td>0.941223</td>\n",
              "      <td>0.066711</td>\n",
              "    </tr>\n",
              "    <tr>\n",
              "      <th>2</th>\n",
              "      <td>0.047748</td>\n",
              "      <td>0.002901</td>\n",
              "      <td>0.002161</td>\n",
              "      <td>0.000577</td>\n",
              "      <td>3</td>\n",
              "      <td>{'n_features_to_select': 3}</td>\n",
              "      <td>0.642857</td>\n",
              "      <td>0.750000</td>\n",
              "      <td>0.697674</td>\n",
              "      <td>0.666667</td>\n",
              "      <td>0.733333</td>\n",
              "      <td>0.878049</td>\n",
              "      <td>0.722222</td>\n",
              "      <td>0.687500</td>\n",
              "      <td>0.583333</td>\n",
              "      <td>0.689655</td>\n",
              "      <td>0.705129</td>\n",
              "      <td>0.073348</td>\n",
              "      <td>9</td>\n",
              "      <td>0.996743</td>\n",
              "      <td>0.996610</td>\n",
              "      <td>0.958904</td>\n",
              "      <td>0.996610</td>\n",
              "      <td>0.996633</td>\n",
              "      <td>0.996516</td>\n",
              "      <td>0.986301</td>\n",
              "      <td>0.993243</td>\n",
              "      <td>0.993421</td>\n",
              "      <td>1.000000</td>\n",
              "      <td>0.991498</td>\n",
              "      <td>0.011401</td>\n",
              "    </tr>\n",
              "    <tr>\n",
              "      <th>3</th>\n",
              "      <td>0.046170</td>\n",
              "      <td>0.001846</td>\n",
              "      <td>0.001898</td>\n",
              "      <td>0.000065</td>\n",
              "      <td>4</td>\n",
              "      <td>{'n_features_to_select': 4}</td>\n",
              "      <td>0.666667</td>\n",
              "      <td>0.848485</td>\n",
              "      <td>0.714286</td>\n",
              "      <td>0.562500</td>\n",
              "      <td>0.733333</td>\n",
              "      <td>0.731707</td>\n",
              "      <td>0.685714</td>\n",
              "      <td>0.764706</td>\n",
              "      <td>0.592593</td>\n",
              "      <td>0.580645</td>\n",
              "      <td>0.688064</td>\n",
              "      <td>0.085518</td>\n",
              "      <td>10</td>\n",
              "      <td>1.000000</td>\n",
              "      <td>1.000000</td>\n",
              "      <td>0.982818</td>\n",
              "      <td>1.000000</td>\n",
              "      <td>1.000000</td>\n",
              "      <td>1.000000</td>\n",
              "      <td>1.000000</td>\n",
              "      <td>1.000000</td>\n",
              "      <td>1.000000</td>\n",
              "      <td>1.000000</td>\n",
              "      <td>0.998282</td>\n",
              "      <td>0.005155</td>\n",
              "    </tr>\n",
              "    <tr>\n",
              "      <th>4</th>\n",
              "      <td>0.045420</td>\n",
              "      <td>0.002630</td>\n",
              "      <td>0.001908</td>\n",
              "      <td>0.000042</td>\n",
              "      <td>5</td>\n",
              "      <td>{'n_features_to_select': 5}</td>\n",
              "      <td>0.608696</td>\n",
              "      <td>0.777778</td>\n",
              "      <td>0.702703</td>\n",
              "      <td>0.562500</td>\n",
              "      <td>0.709677</td>\n",
              "      <td>0.820513</td>\n",
              "      <td>0.705882</td>\n",
              "      <td>0.750000</td>\n",
              "      <td>0.476190</td>\n",
              "      <td>0.709677</td>\n",
              "      <td>0.682362</td>\n",
              "      <td>0.098754</td>\n",
              "      <td>11</td>\n",
              "      <td>1.000000</td>\n",
              "      <td>1.000000</td>\n",
              "      <td>0.989691</td>\n",
              "      <td>1.000000</td>\n",
              "      <td>1.000000</td>\n",
              "      <td>1.000000</td>\n",
              "      <td>1.000000</td>\n",
              "      <td>1.000000</td>\n",
              "      <td>1.000000</td>\n",
              "      <td>1.000000</td>\n",
              "      <td>0.998969</td>\n",
              "      <td>0.003093</td>\n",
              "    </tr>\n",
              "    <tr>\n",
              "      <th>5</th>\n",
              "      <td>0.042760</td>\n",
              "      <td>0.001373</td>\n",
              "      <td>0.002131</td>\n",
              "      <td>0.000532</td>\n",
              "      <td>6</td>\n",
              "      <td>{'n_features_to_select': 6}</td>\n",
              "      <td>0.560000</td>\n",
              "      <td>0.833333</td>\n",
              "      <td>0.777778</td>\n",
              "      <td>0.588235</td>\n",
              "      <td>0.714286</td>\n",
              "      <td>0.930233</td>\n",
              "      <td>0.833333</td>\n",
              "      <td>0.812500</td>\n",
              "      <td>0.500000</td>\n",
              "      <td>0.750000</td>\n",
              "      <td>0.729970</td>\n",
              "      <td>0.131561</td>\n",
              "      <td>5</td>\n",
              "      <td>1.000000</td>\n",
              "      <td>1.000000</td>\n",
              "      <td>1.000000</td>\n",
              "      <td>1.000000</td>\n",
              "      <td>1.000000</td>\n",
              "      <td>1.000000</td>\n",
              "      <td>1.000000</td>\n",
              "      <td>1.000000</td>\n",
              "      <td>1.000000</td>\n",
              "      <td>1.000000</td>\n",
              "      <td>1.000000</td>\n",
              "      <td>0.000000</td>\n",
              "    </tr>\n",
              "    <tr>\n",
              "      <th>6</th>\n",
              "      <td>0.042275</td>\n",
              "      <td>0.002375</td>\n",
              "      <td>0.001873</td>\n",
              "      <td>0.000112</td>\n",
              "      <td>7</td>\n",
              "      <td>{'n_features_to_select': 7}</td>\n",
              "      <td>0.608696</td>\n",
              "      <td>0.833333</td>\n",
              "      <td>0.842105</td>\n",
              "      <td>0.666667</td>\n",
              "      <td>0.774194</td>\n",
              "      <td>0.904762</td>\n",
              "      <td>0.800000</td>\n",
              "      <td>0.666667</td>\n",
              "      <td>0.583333</td>\n",
              "      <td>0.882353</td>\n",
              "      <td>0.756211</td>\n",
              "      <td>0.110104</td>\n",
              "      <td>1</td>\n",
              "      <td>1.000000</td>\n",
              "      <td>1.000000</td>\n",
              "      <td>1.000000</td>\n",
              "      <td>1.000000</td>\n",
              "      <td>1.000000</td>\n",
              "      <td>1.000000</td>\n",
              "      <td>1.000000</td>\n",
              "      <td>1.000000</td>\n",
              "      <td>1.000000</td>\n",
              "      <td>1.000000</td>\n",
              "      <td>1.000000</td>\n",
              "      <td>0.000000</td>\n",
              "    </tr>\n",
              "    <tr>\n",
              "      <th>7</th>\n",
              "      <td>0.039942</td>\n",
              "      <td>0.001881</td>\n",
              "      <td>0.002062</td>\n",
              "      <td>0.000417</td>\n",
              "      <td>8</td>\n",
              "      <td>{'n_features_to_select': 8}</td>\n",
              "      <td>0.521739</td>\n",
              "      <td>0.810811</td>\n",
              "      <td>0.789474</td>\n",
              "      <td>0.628571</td>\n",
              "      <td>0.800000</td>\n",
              "      <td>0.878049</td>\n",
              "      <td>0.685714</td>\n",
              "      <td>0.750000</td>\n",
              "      <td>0.608696</td>\n",
              "      <td>0.848485</td>\n",
              "      <td>0.732154</td>\n",
              "      <td>0.110279</td>\n",
              "      <td>4</td>\n",
              "      <td>1.000000</td>\n",
              "      <td>1.000000</td>\n",
              "      <td>1.000000</td>\n",
              "      <td>1.000000</td>\n",
              "      <td>1.000000</td>\n",
              "      <td>1.000000</td>\n",
              "      <td>1.000000</td>\n",
              "      <td>1.000000</td>\n",
              "      <td>1.000000</td>\n",
              "      <td>1.000000</td>\n",
              "      <td>1.000000</td>\n",
              "      <td>0.000000</td>\n",
              "    </tr>\n",
              "    <tr>\n",
              "      <th>8</th>\n",
              "      <td>0.039481</td>\n",
              "      <td>0.002096</td>\n",
              "      <td>0.001880</td>\n",
              "      <td>0.000049</td>\n",
              "      <td>9</td>\n",
              "      <td>{'n_features_to_select': 9}</td>\n",
              "      <td>0.545455</td>\n",
              "      <td>0.769231</td>\n",
              "      <td>0.842105</td>\n",
              "      <td>0.628571</td>\n",
              "      <td>0.774194</td>\n",
              "      <td>0.818182</td>\n",
              "      <td>0.666667</td>\n",
              "      <td>0.750000</td>\n",
              "      <td>0.421053</td>\n",
              "      <td>0.882353</td>\n",
              "      <td>0.709781</td>\n",
              "      <td>0.136808</td>\n",
              "      <td>8</td>\n",
              "      <td>1.000000</td>\n",
              "      <td>1.000000</td>\n",
              "      <td>1.000000</td>\n",
              "      <td>1.000000</td>\n",
              "      <td>1.000000</td>\n",
              "      <td>1.000000</td>\n",
              "      <td>1.000000</td>\n",
              "      <td>1.000000</td>\n",
              "      <td>1.000000</td>\n",
              "      <td>1.000000</td>\n",
              "      <td>1.000000</td>\n",
              "      <td>0.000000</td>\n",
              "    </tr>\n",
              "    <tr>\n",
              "      <th>9</th>\n",
              "      <td>0.036736</td>\n",
              "      <td>0.001177</td>\n",
              "      <td>0.001875</td>\n",
              "      <td>0.000016</td>\n",
              "      <td>10</td>\n",
              "      <td>{'n_features_to_select': 10}</td>\n",
              "      <td>0.545455</td>\n",
              "      <td>0.789474</td>\n",
              "      <td>0.810811</td>\n",
              "      <td>0.628571</td>\n",
              "      <td>0.838710</td>\n",
              "      <td>0.844444</td>\n",
              "      <td>0.666667</td>\n",
              "      <td>0.727273</td>\n",
              "      <td>0.608696</td>\n",
              "      <td>0.864865</td>\n",
              "      <td>0.732496</td>\n",
              "      <td>0.107790</td>\n",
              "      <td>3</td>\n",
              "      <td>1.000000</td>\n",
              "      <td>1.000000</td>\n",
              "      <td>1.000000</td>\n",
              "      <td>1.000000</td>\n",
              "      <td>1.000000</td>\n",
              "      <td>1.000000</td>\n",
              "      <td>1.000000</td>\n",
              "      <td>1.000000</td>\n",
              "      <td>1.000000</td>\n",
              "      <td>1.000000</td>\n",
              "      <td>1.000000</td>\n",
              "      <td>0.000000</td>\n",
              "    </tr>\n",
              "    <tr>\n",
              "      <th>10</th>\n",
              "      <td>0.037530</td>\n",
              "      <td>0.003595</td>\n",
              "      <td>0.002008</td>\n",
              "      <td>0.000342</td>\n",
              "      <td>11</td>\n",
              "      <td>{'n_features_to_select': 11}</td>\n",
              "      <td>0.571429</td>\n",
              "      <td>0.769231</td>\n",
              "      <td>0.833333</td>\n",
              "      <td>0.628571</td>\n",
              "      <td>0.758621</td>\n",
              "      <td>0.818182</td>\n",
              "      <td>0.736842</td>\n",
              "      <td>0.727273</td>\n",
              "      <td>0.608696</td>\n",
              "      <td>0.800000</td>\n",
              "      <td>0.725218</td>\n",
              "      <td>0.086997</td>\n",
              "      <td>7</td>\n",
              "      <td>1.000000</td>\n",
              "      <td>1.000000</td>\n",
              "      <td>1.000000</td>\n",
              "      <td>1.000000</td>\n",
              "      <td>1.000000</td>\n",
              "      <td>1.000000</td>\n",
              "      <td>1.000000</td>\n",
              "      <td>1.000000</td>\n",
              "      <td>1.000000</td>\n",
              "      <td>1.000000</td>\n",
              "      <td>1.000000</td>\n",
              "      <td>0.000000</td>\n",
              "    </tr>\n",
              "    <tr>\n",
              "      <th>11</th>\n",
              "      <td>0.034896</td>\n",
              "      <td>0.003834</td>\n",
              "      <td>0.001895</td>\n",
              "      <td>0.000046</td>\n",
              "      <td>12</td>\n",
              "      <td>{'n_features_to_select': 12}</td>\n",
              "      <td>0.545455</td>\n",
              "      <td>0.789474</td>\n",
              "      <td>0.857143</td>\n",
              "      <td>0.666667</td>\n",
              "      <td>0.838710</td>\n",
              "      <td>0.837209</td>\n",
              "      <td>0.647059</td>\n",
              "      <td>0.727273</td>\n",
              "      <td>0.608696</td>\n",
              "      <td>0.833333</td>\n",
              "      <td>0.735102</td>\n",
              "      <td>0.106349</td>\n",
              "      <td>2</td>\n",
              "      <td>1.000000</td>\n",
              "      <td>1.000000</td>\n",
              "      <td>1.000000</td>\n",
              "      <td>1.000000</td>\n",
              "      <td>1.000000</td>\n",
              "      <td>1.000000</td>\n",
              "      <td>1.000000</td>\n",
              "      <td>1.000000</td>\n",
              "      <td>1.000000</td>\n",
              "      <td>1.000000</td>\n",
              "      <td>1.000000</td>\n",
              "      <td>0.000000</td>\n",
              "    </tr>\n",
              "    <tr>\n",
              "      <th>12</th>\n",
              "      <td>0.032539</td>\n",
              "      <td>0.001454</td>\n",
              "      <td>0.001914</td>\n",
              "      <td>0.000097</td>\n",
              "      <td>13</td>\n",
              "      <td>{'n_features_to_select': 13}</td>\n",
              "      <td>0.636364</td>\n",
              "      <td>0.833333</td>\n",
              "      <td>0.857143</td>\n",
              "      <td>0.628571</td>\n",
              "      <td>0.800000</td>\n",
              "      <td>0.790698</td>\n",
              "      <td>0.606061</td>\n",
              "      <td>0.727273</td>\n",
              "      <td>0.636364</td>\n",
              "      <td>0.764706</td>\n",
              "      <td>0.728051</td>\n",
              "      <td>0.089323</td>\n",
              "      <td>6</td>\n",
              "      <td>1.000000</td>\n",
              "      <td>1.000000</td>\n",
              "      <td>1.000000</td>\n",
              "      <td>1.000000</td>\n",
              "      <td>1.000000</td>\n",
              "      <td>1.000000</td>\n",
              "      <td>1.000000</td>\n",
              "      <td>1.000000</td>\n",
              "      <td>1.000000</td>\n",
              "      <td>1.000000</td>\n",
              "      <td>1.000000</td>\n",
              "      <td>0.000000</td>\n",
              "    </tr>\n",
              "  </tbody>\n",
              "</table>\n",
              "</div>"
            ],
            "text/plain": [
              "    mean_fit_time  std_fit_time  ...  mean_train_score  std_train_score\n",
              "0        0.050492      0.002293  ...          0.803448         0.027677\n",
              "1        0.047673      0.001840  ...          0.941223         0.066711\n",
              "2        0.047748      0.002901  ...          0.991498         0.011401\n",
              "3        0.046170      0.001846  ...          0.998282         0.005155\n",
              "4        0.045420      0.002630  ...          0.998969         0.003093\n",
              "5        0.042760      0.001373  ...          1.000000         0.000000\n",
              "6        0.042275      0.002375  ...          1.000000         0.000000\n",
              "7        0.039942      0.001881  ...          1.000000         0.000000\n",
              "8        0.039481      0.002096  ...          1.000000         0.000000\n",
              "9        0.036736      0.001177  ...          1.000000         0.000000\n",
              "10       0.037530      0.003595  ...          1.000000         0.000000\n",
              "11       0.034896      0.003834  ...          1.000000         0.000000\n",
              "12       0.032539      0.001454  ...          1.000000         0.000000\n",
              "\n",
              "[13 rows x 31 columns]"
            ]
          },
          "metadata": {
            "tags": []
          },
          "execution_count": 369
        }
      ]
    },
    {
      "cell_type": "code",
      "metadata": {
        "id": "-ZGsOP0gNuIF",
        "colab": {
          "base_uri": "https://localhost:8080/",
          "height": 421
        },
        "outputId": "47f180de-0c01-45a2-d528-0da02d3522a6"
      },
      "source": [
        "# plotting cv results\n",
        "plt.figure(figsize=(16,6))\n",
        "\n",
        "plt.plot(cv_results[\"param_n_features_to_select\"], cv_results[\"mean_test_score\"])\n",
        "plt.plot(cv_results[\"param_n_features_to_select\"], cv_results[\"mean_train_score\"])\n",
        "plt.xlabel('number of features')\n",
        "plt.ylabel('F1')\n",
        "plt.title(\"Optimal Number of Features\")\n",
        "plt.legend(['test score', 'train score'], loc='upper left')"
      ],
      "execution_count": null,
      "outputs": [
        {
          "output_type": "execute_result",
          "data": {
            "text/plain": [
              "<matplotlib.legend.Legend at 0x7efe9e94dd50>"
            ]
          },
          "metadata": {
            "tags": []
          },
          "execution_count": 370
        },
        {
          "output_type": "display_data",
          "data": {
            "image/png": "[encoded data removed]",
            "text/plain": [
              "<Figure size 1152x432 with 1 Axes>"
            ]
          },
          "metadata": {
            "tags": [],
            "needs_background": "light"
          }
        }
      ]
    },
    {
      "cell_type": "code",
      "metadata": {
        "id": "tqBj-qRiOasu",
        "colab": {
          "base_uri": "https://localhost:8080/"
        },
        "outputId": "93829beb-a901-4ba5-f045-1f02008bcec3"
      },
      "source": [
        "rfe_dt = RFE(dt_classifier,n_features_to_select=7)\n",
        "score_dtrfe_f1 = cross_val_score(rfe_dt,X,y,scoring='f1',cv=10)\n",
        "score_dtrfe_acc = cross_val_score(rfe_dt,X,y,scoring='accuracy',cv=10)\n",
        "algorithms.append('Decision Tree')\n",
        "print(score_dtrfe_f1)\n",
        "print(score_dtrfe_f1.mean())\n",
        "print(score_dtrfe_acc)\n",
        "print(score_dtrfe_acc.mean())\n",
        "mean_acc_scores.append(score_dtrfe_acc.mean())\n",
        "mean_f1_scores.append(score_dtrfe_f1.mean())"
      ],
      "execution_count": null,
      "outputs": [
        {
          "output_type": "stream",
          "text": [
            "[0.89473684 0.70967742 0.87179487 0.84848485 0.81081081 0.78787879\n",
            " 0.6        0.76470588 0.7027027  0.8125    ]\n",
            "0.7803292165485065\n",
            "[0.87096774 0.70967742 0.83870968 0.83333333 0.76666667 0.76666667\n",
            " 0.6        0.73333333 0.63333333 0.8       ]\n",
            "0.755268817204301\n"
          ],
          "name": "stdout"
        }
      ]
    },
    {
      "cell_type": "code",
      "metadata": {
        "colab": {
          "base_uri": "https://localhost:8080/"
        },
        "id": "Pv9WNiyzORZu",
        "outputId": "19653bdf-fcc0-4f66-b598-7173a145b544"
      },
      "source": [
        "rfe_dt.fit(X_train,y_train)\n",
        "y_pred_dt = rfe_dt.predict(X_test)\n",
        "from sklearn.metrics import f1_score\n",
        "from sklearn.metrics import accuracy_score\n",
        "acc_dt = accuracy_score(y_test,y_pred_dt)\n",
        "f1_dt = f1_score(y_test,y_pred_dt)\n",
        "print(acc_dt)\n",
        "print(f1_dt)"
      ],
      "execution_count": null,
      "outputs": [
        {
          "output_type": "stream",
          "text": [
            "0.8360655737704918\n",
            "0.8387096774193549\n"
          ],
          "name": "stdout"
        }
      ]
    },
    {
      "cell_type": "code",
      "metadata": {
        "id": "VmsUWfo1Pyt7"
      },
      "source": [
        "# tuples of (feature name, whether selected, ranking)\n",
        "# note that the 'rank' is > 1 for non-selected features\n",
        "#rfe_dt.support_"
      ],
      "execution_count": null,
      "outputs": []
    },
    {
      "cell_type": "markdown",
      "metadata": {
        "id": "jTZl6QFWIENi"
      },
      "source": [
        "Random Forest:"
      ]
    },
    {
      "cell_type": "code",
      "metadata": {
        "id": "2OKt-SKIIAlL"
      },
      "source": [
        "model_param = {\n",
        "    'RandomForestClassifier':{\n",
        "        'model':RandomForestClassifier(),\n",
        "        'param':{\n",
        "            'n_estimators': [10, 50, 100, 130], \n",
        "            'criterion': ['gini', 'entropy'],\n",
        "            'max_depth': range(2, 5, 1), \n",
        "            'max_features': ['auto', 'log2', 7, 13]\n",
        "        }\n",
        "    }\n",
        "}\n"
      ],
      "execution_count": null,
      "outputs": []
    },
    {
      "cell_type": "code",
      "metadata": {
        "id": "5yCGDUugTnSj"
      },
      "source": [
        "scores ={}\n",
        "for model_name, mp in model_param.items():\n",
        "    model_selection = GridSearchCV(estimator=mp['model'],param_grid=mp['param'],scoring = 'f1',cv=10,return_train_score=False)\n",
        "    model_selection.fit(X,y)\n",
        "    dict1 = {\n",
        "        'model': model_name,\n",
        "        'best_score': model_selection.best_score_,\n",
        "        'best_params': model_selection.best_params_\n",
        "    }\n",
        "    scores.update(dict1)"
      ],
      "execution_count": null,
      "outputs": []
    },
    {
      "cell_type": "code",
      "metadata": {
        "id": "khwgaCz3WXzt",
        "colab": {
          "base_uri": "https://localhost:8080/"
        },
        "outputId": "af0e298a-3886-4c29-980b-d361081c8c6c"
      },
      "source": [
        "print(scores)\n",
        "mean_f1_scores.append(scores['best_score'])"
      ],
      "execution_count": null,
      "outputs": [
        {
          "output_type": "stream",
          "text": [
            "{'model': 'RandomForestClassifier', 'best_score': 0.8713865976365975, 'best_params': {'criterion': 'entropy', 'max_depth': 3, 'max_features': 7, 'n_estimators': 10}}\n"
          ],
          "name": "stdout"
        }
      ]
    },
    {
      "cell_type": "code",
      "metadata": {
        "id": "i1zKYP6phq9d",
        "colab": {
          "base_uri": "https://localhost:8080/"
        },
        "outputId": "bd08505b-fcc1-4849-b73d-3f10941def96"
      },
      "source": [
        "scores_acc ={}\n",
        "for model_name, mp in model_param.items():\n",
        "    model_selection = GridSearchCV(estimator=mp['model'],param_grid=mp['param'],scoring = 'accuracy',cv=10,return_train_score=False)\n",
        "    model_selection.fit(X,y)\n",
        "    dict2 ={\n",
        "        'model': model_name,\n",
        "        'best_score': model_selection.best_score_,\n",
        "        'best_params': model_selection.best_params_\n",
        "    }\n",
        "    scores_acc.update(dict2)\n",
        "print(scores_acc)\n",
        "mean_acc_scores.append(scores_acc['best_score'])"
      ],
      "execution_count": null,
      "outputs": [
        {
          "output_type": "stream",
          "text": [
            "{'model': 'RandomForestClassifier', 'best_score': 0.8578494623655913, 'best_params': {'criterion': 'gini', 'max_depth': 3, 'max_features': 7, 'n_estimators': 100}}\n"
          ],
          "name": "stdout"
        }
      ]
    },
    {
      "cell_type": "code",
      "metadata": {
        "colab": {
          "base_uri": "https://localhost:8080/"
        },
        "id": "gWPX8M_5jga2",
        "outputId": "8d17fd64-6524-4aad-a374-00d443d44838"
      },
      "source": [
        "print(algorithms)\n",
        "print(mean_acc_scores)\n",
        "print(mean_f1_scores)"
      ],
      "execution_count": null,
      "outputs": [
        {
          "output_type": "stream",
          "text": [
            "['lr', 'sv', 'knn', 'Decision Tree']\n",
            "[0.8511827956989247, 0.8448387096774193, 0.8449462365591398, 0.755268817204301, 0.8578494623655913]\n",
            "[0.8629446816946815, 0.8569905992700111, 0.8593457576023991, 0.7803292165485065, 0.8713865976365975]\n"
          ],
          "name": "stdout"
        }
      ]
    },
    {
      "cell_type": "code",
      "metadata": {
        "colab": {
          "base_uri": "https://localhost:8080/"
        },
        "id": "rVVoE874PNqL",
        "outputId": "97f4cbb5-664c-46a8-cf25-26bf5fc0ea8d"
      },
      "source": [
        "rf = RandomForestClassifier(criterion= 'gini', max_depth= 4, max_features= 'log2', n_estimators=50)\n",
        "algorithms.append('RF')\n",
        "rf.fit(X_train,y_train)\n",
        "y_pred_rf = rf.predict(X_test)\n",
        "acc_rf = accuracy_score(y_test,y_pred_rf)\n",
        "f1_rf = f1_score(y_test,y_pred_rf)\n",
        "print(acc_rf)\n",
        "print(f1_rf)"
      ],
      "execution_count": null,
      "outputs": [
        {
          "output_type": "stream",
          "text": [
            "0.8852459016393442\n",
            "0.8923076923076922\n"
          ],
          "name": "stdout"
        }
      ]
    },
    {
      "cell_type": "markdown",
      "metadata": {
        "id": "xPz4jgdLZ9sE"
      },
      "source": [
        "Gaussian Naive Bayes:"
      ]
    },
    {
      "cell_type": "code",
      "metadata": {
        "id": "QSxdSOLbaAW3",
        "colab": {
          "base_uri": "https://localhost:8080/"
        },
        "outputId": "85bdeaae-f78d-43a1-8773-bac513a65f2c"
      },
      "source": [
        "nb_classifier = GaussianNB()\n",
        "algorithms.append('NB')\n",
        "score_nb_f1 = cross_val_score(nb_classifier,X,y,scoring='f1',cv=10)\n",
        "print(score_nb_f1)\n",
        "print(score_nb_f1.mean())\n",
        "score_nb_acc = cross_val_score(nb_classifier,X,y,scoring='accuracy',cv=10)\n",
        "print(score_nb_acc)\n",
        "print(score_nb_acc.mean())\n",
        "mean_acc_scores.append(score_nb_acc.mean())\n",
        "mean_f1_scores.append(score_nb_f1.mean())"
      ],
      "execution_count": null,
      "outputs": [
        {
          "output_type": "stream",
          "text": [
            "[0.85714286 0.8        0.86486486 0.90322581 0.82352941 0.78571429\n",
            " 0.66666667 0.90909091 0.70588235 0.82352941]\n",
            "0.8139646566401785\n",
            "[0.83870968 0.77419355 0.83870968 0.9        0.8        0.8\n",
            " 0.7        0.9        0.66666667 0.8       ]\n",
            "0.8018279569892475\n"
          ],
          "name": "stdout"
        }
      ]
    },
    {
      "cell_type": "code",
      "metadata": {
        "id": "LYAxVKIvdGqY"
      },
      "source": [
        "from xgboost import XGBClassifier\n",
        "model_param ={\n",
        "    'XGBClassifier':{\n",
        "        'model':XGBClassifier(objective='binary:logistic'),\n",
        "        'param':{\n",
        "           'learning_rate': [0.5, 0.1, 0.01, 0.001],\n",
        "            'max_depth': [3, 5, 10, 20],\n",
        "            'n_estimators': [10, 50, 100, 200]\n",
        "        }\n",
        "    }\n",
        "}\n",
        "algorithms.append('XGBClassifier')"
      ],
      "execution_count": null,
      "outputs": []
    },
    {
      "cell_type": "code",
      "metadata": {
        "id": "-lqMH7dNdP65"
      },
      "source": [
        "scores_xgb ={}\n",
        "for model_name, mp in model_param.items():\n",
        "    model_selection = GridSearchCV(estimator=mp['model'],param_grid=mp['param'],scoring = 'f1',cv=10,return_train_score=False)\n",
        "    model_selection.fit(X,y)\n",
        "    dict3={\n",
        "        'model': model_name,\n",
        "        'best_score': model_selection.best_score_,\n",
        "        'best_params': model_selection.best_params_\n",
        "    }\n",
        "    scores_xgb.update(dict3)"
      ],
      "execution_count": null,
      "outputs": []
    },
    {
      "cell_type": "code",
      "metadata": {
        "id": "_HVOYX_-eyhR",
        "colab": {
          "base_uri": "https://localhost:8080/"
        },
        "outputId": "affc9952-905f-465b-a05e-9270bb289b69"
      },
      "source": [
        "print(scores_xgb)\n",
        "mean_f1_scores.append(scores_xgb['best_score'])"
      ],
      "execution_count": null,
      "outputs": [
        {
          "output_type": "stream",
          "text": [
            "{'model': 'XGBClassifier', 'best_score': 0.8612327768945416, 'best_params': {'learning_rate': 0.1, 'max_depth': 3, 'n_estimators': 10}}\n"
          ],
          "name": "stdout"
        }
      ]
    },
    {
      "cell_type": "code",
      "metadata": {
        "id": "Jt9wypl1iguy",
        "colab": {
          "base_uri": "https://localhost:8080/"
        },
        "outputId": "c7629dac-d888-4bb2-9c6a-ccea46d31b6f"
      },
      "source": [
        "scores_xgb_acc = {}\n",
        "for model_name, mp in model_param.items():\n",
        "    model_selection = GridSearchCV(estimator=mp['model'],param_grid=mp['param'],scoring = 'accuracy',cv=10,return_train_score=False)\n",
        "    model_selection.fit(X,y)\n",
        "    dict4 = {\n",
        "        'model': model_name,\n",
        "        'best_score': model_selection.best_score_,\n",
        "        'best_params': model_selection.best_params_\n",
        "    }\n",
        "    scores_xgb_acc.update(dict4)\n",
        "print(scores_xgb_acc)\n",
        "mean_acc_scores.append(scores_xgb_acc['best_score'])\n"
      ],
      "execution_count": null,
      "outputs": [
        {
          "output_type": "stream",
          "text": [
            "{'model': 'XGBClassifier', 'best_score': 0.8443010752688173, 'best_params': {'learning_rate': 0.1, 'max_depth': 3, 'n_estimators': 10}}\n"
          ],
          "name": "stdout"
        }
      ]
    },
    {
      "cell_type": "markdown",
      "metadata": {
        "id": "fVLR7JOumqCB"
      },
      "source": [
        "ANN:\n"
      ]
    },
    {
      "cell_type": "code",
      "metadata": {
        "id": "i0AwgR2amr5a",
        "colab": {
          "base_uri": "https://localhost:8080/",
          "height": 1000
        },
        "outputId": "f4362fbc-e9d2-4e20-a857-39567b735bc6"
      },
      "source": [
        "from sklearn.model_selection import GridSearchCV\n",
        "from keras.models import Sequential\n",
        "from keras.layers import Dense\n",
        "from keras.wrappers.scikit_learn import KerasClassifier\n",
        "model = Sequential()\n",
        "model.add(Dense(units=11, activation='relu', input_dim=30))\n",
        "model.add(Dense(units=1, activation ='sigmoid'))\n",
        "model.summary()\n",
        "# Compile model\n",
        "model.compile(loss='binary_crossentropy', optimizer='adam', metrics=['accuracy'])\n",
        "ann = model.fit(X_train, y_train, epochs=250, batch_size=50,validation_split=0.15)\n",
        "y_pred_ann = model.predict(X_test)\n",
        "pd.DataFrame(ann.history)[['loss','val_loss']].plot()\n",
        "algorithms.append('ann')"
      ],
      "execution_count": null,
      "outputs": [
        {
          "output_type": "stream",
          "text": [
            "Model: \"sequential_18\"\n",
            "_________________________________________________________________\n",
            "Layer (type)                 Output Shape              Param #   \n",
            "=================================================================\n",
            "dense_46 (Dense)             (None, 11)                341       \n",
            "_________________________________________________________________\n",
            "dense_47 (Dense)             (None, 1)                 12        \n",
            "=================================================================\n",
            "Total params: 353\n",
            "Trainable params: 353\n",
            "Non-trainable params: 0\n",
            "_________________________________________________________________\n",
            "Epoch 1/250\n",
            "5/5 [==============================] - 1s 71ms/step - loss: 0.7184 - accuracy: 0.5017 - val_loss: 0.6881 - val_accuracy: 0.5135\n",
            "Epoch 2/250\n",
            "5/5 [==============================] - 0s 6ms/step - loss: 0.6948 - accuracy: 0.5416 - val_loss: 0.6722 - val_accuracy: 0.4865\n",
            "Epoch 3/250\n",
            "5/5 [==============================] - 0s 5ms/step - loss: 0.6658 - accuracy: 0.5832 - val_loss: 0.6573 - val_accuracy: 0.4865\n",
            "Epoch 4/250\n",
            "5/5 [==============================] - 0s 5ms/step - loss: 0.6593 - accuracy: 0.5984 - val_loss: 0.6423 - val_accuracy: 0.5676\n",
            "Epoch 5/250\n",
            "5/5 [==============================] - 0s 7ms/step - loss: 0.6549 - accuracy: 0.5858 - val_loss: 0.6277 - val_accuracy: 0.6216\n",
            "Epoch 6/250\n",
            "5/5 [==============================] - 0s 5ms/step - loss: 0.6582 - accuracy: 0.6015 - val_loss: 0.6134 - val_accuracy: 0.7027\n",
            "Epoch 7/250\n",
            "5/5 [==============================] - 0s 6ms/step - loss: 0.6419 - accuracy: 0.6175 - val_loss: 0.5997 - val_accuracy: 0.7027\n",
            "Epoch 8/250\n",
            "5/5 [==============================] - 0s 6ms/step - loss: 0.6253 - accuracy: 0.6354 - val_loss: 0.5859 - val_accuracy: 0.7027\n",
            "Epoch 9/250\n",
            "5/5 [==============================] - 0s 6ms/step - loss: 0.6089 - accuracy: 0.6479 - val_loss: 0.5729 - val_accuracy: 0.7568\n",
            "Epoch 10/250\n",
            "5/5 [==============================] - 0s 6ms/step - loss: 0.5822 - accuracy: 0.6746 - val_loss: 0.5606 - val_accuracy: 0.7568\n",
            "Epoch 11/250\n",
            "5/5 [==============================] - 0s 5ms/step - loss: 0.5830 - accuracy: 0.7014 - val_loss: 0.5480 - val_accuracy: 0.7568\n",
            "Epoch 12/250\n",
            "5/5 [==============================] - 0s 5ms/step - loss: 0.5972 - accuracy: 0.7095 - val_loss: 0.5361 - val_accuracy: 0.7568\n",
            "Epoch 13/250\n",
            "5/5 [==============================] - 0s 5ms/step - loss: 0.5733 - accuracy: 0.7636 - val_loss: 0.5247 - val_accuracy: 0.7568\n",
            "Epoch 14/250\n",
            "5/5 [==============================] - 0s 6ms/step - loss: 0.5634 - accuracy: 0.7954 - val_loss: 0.5139 - val_accuracy: 0.7568\n",
            "Epoch 15/250\n",
            "5/5 [==============================] - 0s 5ms/step - loss: 0.5480 - accuracy: 0.7932 - val_loss: 0.5038 - val_accuracy: 0.7568\n",
            "Epoch 16/250\n",
            "5/5 [==============================] - 0s 5ms/step - loss: 0.5537 - accuracy: 0.7701 - val_loss: 0.4937 - val_accuracy: 0.7838\n",
            "Epoch 17/250\n",
            "5/5 [==============================] - 0s 5ms/step - loss: 0.5487 - accuracy: 0.7553 - val_loss: 0.4843 - val_accuracy: 0.7838\n",
            "Epoch 18/250\n",
            "5/5 [==============================] - 0s 6ms/step - loss: 0.5210 - accuracy: 0.7959 - val_loss: 0.4754 - val_accuracy: 0.7838\n",
            "Epoch 19/250\n",
            "5/5 [==============================] - 0s 7ms/step - loss: 0.5174 - accuracy: 0.7981 - val_loss: 0.4664 - val_accuracy: 0.7838\n",
            "Epoch 20/250\n",
            "5/5 [==============================] - 0s 10ms/step - loss: 0.5001 - accuracy: 0.8219 - val_loss: 0.4576 - val_accuracy: 0.7838\n",
            "Epoch 21/250\n",
            "5/5 [==============================] - 0s 6ms/step - loss: 0.4975 - accuracy: 0.8208 - val_loss: 0.4498 - val_accuracy: 0.8108\n",
            "Epoch 22/250\n",
            "5/5 [==============================] - 0s 6ms/step - loss: 0.5001 - accuracy: 0.7965 - val_loss: 0.4418 - val_accuracy: 0.8108\n",
            "Epoch 23/250\n",
            "5/5 [==============================] - 0s 6ms/step - loss: 0.4775 - accuracy: 0.8159 - val_loss: 0.4345 - val_accuracy: 0.8108\n",
            "Epoch 24/250\n",
            "5/5 [==============================] - 0s 6ms/step - loss: 0.4764 - accuracy: 0.8209 - val_loss: 0.4278 - val_accuracy: 0.8108\n",
            "Epoch 25/250\n",
            "5/5 [==============================] - 0s 6ms/step - loss: 0.4680 - accuracy: 0.8223 - val_loss: 0.4210 - val_accuracy: 0.8649\n",
            "Epoch 26/250\n",
            "5/5 [==============================] - 0s 6ms/step - loss: 0.4718 - accuracy: 0.8272 - val_loss: 0.4141 - val_accuracy: 0.8649\n",
            "Epoch 27/250\n",
            "5/5 [==============================] - 0s 7ms/step - loss: 0.4523 - accuracy: 0.8494 - val_loss: 0.4081 - val_accuracy: 0.8649\n",
            "Epoch 28/250\n",
            "5/5 [==============================] - 0s 6ms/step - loss: 0.4519 - accuracy: 0.8385 - val_loss: 0.4030 - val_accuracy: 0.8649\n",
            "Epoch 29/250\n",
            "5/5 [==============================] - 0s 7ms/step - loss: 0.4479 - accuracy: 0.8415 - val_loss: 0.3981 - val_accuracy: 0.8649\n",
            "Epoch 30/250\n",
            "5/5 [==============================] - 0s 6ms/step - loss: 0.4578 - accuracy: 0.8404 - val_loss: 0.3934 - val_accuracy: 0.8649\n",
            "Epoch 31/250\n",
            "5/5 [==============================] - 0s 6ms/step - loss: 0.4421 - accuracy: 0.8393 - val_loss: 0.3884 - val_accuracy: 0.8649\n",
            "Epoch 32/250\n",
            "5/5 [==============================] - 0s 6ms/step - loss: 0.4304 - accuracy: 0.8449 - val_loss: 0.3837 - val_accuracy: 0.8649\n",
            "Epoch 33/250\n",
            "5/5 [==============================] - 0s 6ms/step - loss: 0.4428 - accuracy: 0.8415 - val_loss: 0.3792 - val_accuracy: 0.8649\n",
            "Epoch 34/250\n",
            "5/5 [==============================] - 0s 7ms/step - loss: 0.4083 - accuracy: 0.8599 - val_loss: 0.3746 - val_accuracy: 0.8649\n",
            "Epoch 35/250\n",
            "5/5 [==============================] - 0s 6ms/step - loss: 0.4293 - accuracy: 0.8312 - val_loss: 0.3698 - val_accuracy: 0.8649\n",
            "Epoch 36/250\n",
            "5/5 [==============================] - 0s 6ms/step - loss: 0.4171 - accuracy: 0.8611 - val_loss: 0.3654 - val_accuracy: 0.8649\n",
            "Epoch 37/250\n",
            "5/5 [==============================] - 0s 6ms/step - loss: 0.4161 - accuracy: 0.8634 - val_loss: 0.3616 - val_accuracy: 0.8649\n",
            "Epoch 38/250\n",
            "5/5 [==============================] - 0s 6ms/step - loss: 0.4082 - accuracy: 0.8656 - val_loss: 0.3583 - val_accuracy: 0.8649\n",
            "Epoch 39/250\n",
            "5/5 [==============================] - 0s 7ms/step - loss: 0.3607 - accuracy: 0.8920 - val_loss: 0.3550 - val_accuracy: 0.8649\n",
            "Epoch 40/250\n",
            "5/5 [==============================] - 0s 6ms/step - loss: 0.4242 - accuracy: 0.8511 - val_loss: 0.3511 - val_accuracy: 0.8649\n",
            "Epoch 41/250\n",
            "5/5 [==============================] - 0s 7ms/step - loss: 0.3973 - accuracy: 0.8528 - val_loss: 0.3475 - val_accuracy: 0.8649\n",
            "Epoch 42/250\n",
            "5/5 [==============================] - 0s 7ms/step - loss: 0.4054 - accuracy: 0.8553 - val_loss: 0.3440 - val_accuracy: 0.8649\n",
            "Epoch 43/250\n",
            "5/5 [==============================] - 0s 11ms/step - loss: 0.3817 - accuracy: 0.8576 - val_loss: 0.3408 - val_accuracy: 0.8649\n",
            "Epoch 44/250\n",
            "5/5 [==============================] - 0s 6ms/step - loss: 0.3801 - accuracy: 0.8642 - val_loss: 0.3372 - val_accuracy: 0.8649\n",
            "Epoch 45/250\n",
            "5/5 [==============================] - 0s 6ms/step - loss: 0.4033 - accuracy: 0.8456 - val_loss: 0.3333 - val_accuracy: 0.8649\n",
            "Epoch 46/250\n",
            "5/5 [==============================] - 0s 6ms/step - loss: 0.3594 - accuracy: 0.8914 - val_loss: 0.3297 - val_accuracy: 0.8649\n",
            "Epoch 47/250\n",
            "5/5 [==============================] - 0s 6ms/step - loss: 0.3718 - accuracy: 0.8683 - val_loss: 0.3260 - val_accuracy: 0.8649\n",
            "Epoch 48/250\n",
            "5/5 [==============================] - 0s 5ms/step - loss: 0.3973 - accuracy: 0.8505 - val_loss: 0.3234 - val_accuracy: 0.8649\n",
            "Epoch 49/250\n",
            "5/5 [==============================] - 0s 6ms/step - loss: 0.3960 - accuracy: 0.8680 - val_loss: 0.3213 - val_accuracy: 0.8649\n",
            "Epoch 50/250\n",
            "5/5 [==============================] - 0s 6ms/step - loss: 0.3780 - accuracy: 0.8633 - val_loss: 0.3188 - val_accuracy: 0.8649\n",
            "Epoch 51/250\n",
            "5/5 [==============================] - 0s 6ms/step - loss: 0.3499 - accuracy: 0.8857 - val_loss: 0.3164 - val_accuracy: 0.8649\n",
            "Epoch 52/250\n",
            "5/5 [==============================] - 0s 6ms/step - loss: 0.3877 - accuracy: 0.8530 - val_loss: 0.3145 - val_accuracy: 0.8649\n",
            "Epoch 53/250\n",
            "5/5 [==============================] - 0s 6ms/step - loss: 0.3547 - accuracy: 0.8888 - val_loss: 0.3127 - val_accuracy: 0.8649\n",
            "Epoch 54/250\n",
            "5/5 [==============================] - 0s 7ms/step - loss: 0.3558 - accuracy: 0.8813 - val_loss: 0.3107 - val_accuracy: 0.8649\n",
            "Epoch 55/250\n",
            "5/5 [==============================] - 0s 6ms/step - loss: 0.3702 - accuracy: 0.8668 - val_loss: 0.3094 - val_accuracy: 0.8649\n",
            "Epoch 56/250\n",
            "5/5 [==============================] - 0s 6ms/step - loss: 0.3474 - accuracy: 0.8860 - val_loss: 0.3078 - val_accuracy: 0.8649\n",
            "Epoch 57/250\n",
            "5/5 [==============================] - 0s 7ms/step - loss: 0.3568 - accuracy: 0.8874 - val_loss: 0.3060 - val_accuracy: 0.8649\n",
            "Epoch 58/250\n",
            "5/5 [==============================] - 0s 6ms/step - loss: 0.3741 - accuracy: 0.8610 - val_loss: 0.3047 - val_accuracy: 0.8649\n",
            "Epoch 59/250\n",
            "5/5 [==============================] - 0s 7ms/step - loss: 0.3418 - accuracy: 0.8868 - val_loss: 0.3034 - val_accuracy: 0.8649\n",
            "Epoch 60/250\n",
            "5/5 [==============================] - 0s 6ms/step - loss: 0.3325 - accuracy: 0.8874 - val_loss: 0.3022 - val_accuracy: 0.8649\n",
            "Epoch 61/250\n",
            "5/5 [==============================] - 0s 6ms/step - loss: 0.3571 - accuracy: 0.8791 - val_loss: 0.3005 - val_accuracy: 0.8649\n",
            "Epoch 62/250\n",
            "5/5 [==============================] - 0s 6ms/step - loss: 0.3388 - accuracy: 0.8877 - val_loss: 0.2991 - val_accuracy: 0.8649\n",
            "Epoch 63/250\n",
            "5/5 [==============================] - 0s 6ms/step - loss: 0.3350 - accuracy: 0.8813 - val_loss: 0.2978 - val_accuracy: 0.8649\n",
            "Epoch 64/250\n",
            "5/5 [==============================] - 0s 5ms/step - loss: 0.3410 - accuracy: 0.8932 - val_loss: 0.2959 - val_accuracy: 0.8649\n",
            "Epoch 65/250\n",
            "5/5 [==============================] - 0s 11ms/step - loss: 0.3482 - accuracy: 0.8730 - val_loss: 0.2943 - val_accuracy: 0.8649\n",
            "Epoch 66/250\n",
            "5/5 [==============================] - 0s 7ms/step - loss: 0.3598 - accuracy: 0.8638 - val_loss: 0.2928 - val_accuracy: 0.8649\n",
            "Epoch 67/250\n",
            "5/5 [==============================] - 0s 7ms/step - loss: 0.3429 - accuracy: 0.8705 - val_loss: 0.2905 - val_accuracy: 0.8649\n",
            "Epoch 68/250\n",
            "5/5 [==============================] - 0s 10ms/step - loss: 0.3464 - accuracy: 0.8846 - val_loss: 0.2880 - val_accuracy: 0.8649\n",
            "Epoch 69/250\n",
            "5/5 [==============================] - 0s 7ms/step - loss: 0.3345 - accuracy: 0.8851 - val_loss: 0.2853 - val_accuracy: 0.8649\n",
            "Epoch 70/250\n",
            "5/5 [==============================] - 0s 5ms/step - loss: 0.3396 - accuracy: 0.8854 - val_loss: 0.2831 - val_accuracy: 0.8919\n",
            "Epoch 71/250\n",
            "5/5 [==============================] - 0s 6ms/step - loss: 0.3567 - accuracy: 0.8671 - val_loss: 0.2814 - val_accuracy: 0.8919\n",
            "Epoch 72/250\n",
            "5/5 [==============================] - 0s 6ms/step - loss: 0.3369 - accuracy: 0.8843 - val_loss: 0.2798 - val_accuracy: 0.8919\n",
            "Epoch 73/250\n",
            "5/5 [==============================] - 0s 6ms/step - loss: 0.3354 - accuracy: 0.8846 - val_loss: 0.2785 - val_accuracy: 0.8919\n",
            "Epoch 74/250\n",
            "5/5 [==============================] - 0s 6ms/step - loss: 0.3362 - accuracy: 0.8743 - val_loss: 0.2773 - val_accuracy: 0.8919\n",
            "Epoch 75/250\n",
            "5/5 [==============================] - 0s 8ms/step - loss: 0.3264 - accuracy: 0.8788 - val_loss: 0.2764 - val_accuracy: 0.8919\n",
            "Epoch 76/250\n",
            "5/5 [==============================] - 0s 6ms/step - loss: 0.3227 - accuracy: 0.8885 - val_loss: 0.2753 - val_accuracy: 0.8919\n",
            "Epoch 77/250\n",
            "5/5 [==============================] - 0s 7ms/step - loss: 0.3196 - accuracy: 0.8884 - val_loss: 0.2747 - val_accuracy: 0.8649\n",
            "Epoch 78/250\n",
            "5/5 [==============================] - 0s 7ms/step - loss: 0.3255 - accuracy: 0.8829 - val_loss: 0.2740 - val_accuracy: 0.8919\n",
            "Epoch 79/250\n",
            "5/5 [==============================] - 0s 6ms/step - loss: 0.3230 - accuracy: 0.8862 - val_loss: 0.2735 - val_accuracy: 0.8919\n",
            "Epoch 80/250\n",
            "5/5 [==============================] - 0s 6ms/step - loss: 0.3322 - accuracy: 0.8732 - val_loss: 0.2730 - val_accuracy: 0.8919\n",
            "Epoch 81/250\n",
            "5/5 [==============================] - 0s 8ms/step - loss: 0.3313 - accuracy: 0.8784 - val_loss: 0.2726 - val_accuracy: 0.8919\n",
            "Epoch 82/250\n",
            "5/5 [==============================] - 0s 6ms/step - loss: 0.3096 - accuracy: 0.8973 - val_loss: 0.2720 - val_accuracy: 0.8919\n",
            "Epoch 83/250\n",
            "5/5 [==============================] - 0s 6ms/step - loss: 0.3121 - accuracy: 0.8990 - val_loss: 0.2717 - val_accuracy: 0.8919\n",
            "Epoch 84/250\n",
            "5/5 [==============================] - 0s 6ms/step - loss: 0.3319 - accuracy: 0.8832 - val_loss: 0.2715 - val_accuracy: 0.8919\n",
            "Epoch 85/250\n",
            "5/5 [==============================] - 0s 7ms/step - loss: 0.3124 - accuracy: 0.9004 - val_loss: 0.2713 - val_accuracy: 0.8919\n",
            "Epoch 86/250\n",
            "5/5 [==============================] - 0s 7ms/step - loss: 0.3065 - accuracy: 0.8898 - val_loss: 0.2708 - val_accuracy: 0.8649\n",
            "Epoch 87/250\n",
            "5/5 [==============================] - 0s 6ms/step - loss: 0.2821 - accuracy: 0.9088 - val_loss: 0.2707 - val_accuracy: 0.8649\n",
            "Epoch 88/250\n",
            "5/5 [==============================] - 0s 7ms/step - loss: 0.3185 - accuracy: 0.8771 - val_loss: 0.2702 - val_accuracy: 0.8649\n",
            "Epoch 89/250\n",
            "5/5 [==============================] - 0s 7ms/step - loss: 0.3222 - accuracy: 0.8771 - val_loss: 0.2694 - val_accuracy: 0.8649\n",
            "Epoch 90/250\n",
            "5/5 [==============================] - 0s 6ms/step - loss: 0.3270 - accuracy: 0.8702 - val_loss: 0.2691 - val_accuracy: 0.8649\n",
            "Epoch 91/250\n",
            "5/5 [==============================] - 0s 6ms/step - loss: 0.3252 - accuracy: 0.8746 - val_loss: 0.2688 - val_accuracy: 0.8919\n",
            "Epoch 92/250\n",
            "5/5 [==============================] - 0s 6ms/step - loss: 0.3187 - accuracy: 0.8818 - val_loss: 0.2685 - val_accuracy: 0.8919\n",
            "Epoch 93/250\n",
            "5/5 [==============================] - 0s 7ms/step - loss: 0.3171 - accuracy: 0.8810 - val_loss: 0.2675 - val_accuracy: 0.8649\n",
            "Epoch 94/250\n",
            "5/5 [==============================] - 0s 6ms/step - loss: 0.3020 - accuracy: 0.8996 - val_loss: 0.2667 - val_accuracy: 0.8649\n",
            "Epoch 95/250\n",
            "5/5 [==============================] - 0s 6ms/step - loss: 0.3204 - accuracy: 0.8685 - val_loss: 0.2658 - val_accuracy: 0.8649\n",
            "Epoch 96/250\n",
            "5/5 [==============================] - 0s 6ms/step - loss: 0.3244 - accuracy: 0.8685 - val_loss: 0.2648 - val_accuracy: 0.8919\n",
            "Epoch 97/250\n",
            "5/5 [==============================] - 0s 7ms/step - loss: 0.3020 - accuracy: 0.8938 - val_loss: 0.2633 - val_accuracy: 0.8919\n",
            "Epoch 98/250\n",
            "5/5 [==============================] - 0s 6ms/step - loss: 0.3144 - accuracy: 0.8810 - val_loss: 0.2623 - val_accuracy: 0.8919\n",
            "Epoch 99/250\n",
            "5/5 [==============================] - 0s 7ms/step - loss: 0.2929 - accuracy: 0.8934 - val_loss: 0.2617 - val_accuracy: 0.8649\n",
            "Epoch 100/250\n",
            "5/5 [==============================] - 0s 7ms/step - loss: 0.3039 - accuracy: 0.8934 - val_loss: 0.2612 - val_accuracy: 0.8649\n",
            "Epoch 101/250\n",
            "5/5 [==============================] - 0s 7ms/step - loss: 0.3044 - accuracy: 0.8929 - val_loss: 0.2612 - val_accuracy: 0.8649\n",
            "Epoch 102/250\n",
            "5/5 [==============================] - 0s 7ms/step - loss: 0.3275 - accuracy: 0.8779 - val_loss: 0.2612 - val_accuracy: 0.8649\n",
            "Epoch 103/250\n",
            "5/5 [==============================] - 0s 7ms/step - loss: 0.3290 - accuracy: 0.8801 - val_loss: 0.2614 - val_accuracy: 0.8919\n",
            "Epoch 104/250\n",
            "5/5 [==============================] - 0s 6ms/step - loss: 0.3179 - accuracy: 0.8823 - val_loss: 0.2616 - val_accuracy: 0.8649\n",
            "Epoch 105/250\n",
            "5/5 [==============================] - 0s 7ms/step - loss: 0.3024 - accuracy: 0.8785 - val_loss: 0.2610 - val_accuracy: 0.8649\n",
            "Epoch 106/250\n",
            "5/5 [==============================] - 0s 6ms/step - loss: 0.3011 - accuracy: 0.8791 - val_loss: 0.2599 - val_accuracy: 0.8649\n",
            "Epoch 107/250\n",
            "5/5 [==============================] - 0s 6ms/step - loss: 0.3303 - accuracy: 0.8580 - val_loss: 0.2590 - val_accuracy: 0.8919\n",
            "Epoch 108/250\n",
            "5/5 [==============================] - 0s 6ms/step - loss: 0.2712 - accuracy: 0.8935 - val_loss: 0.2584 - val_accuracy: 0.8919\n",
            "Epoch 109/250\n",
            "5/5 [==============================] - 0s 6ms/step - loss: 0.2932 - accuracy: 0.8812 - val_loss: 0.2581 - val_accuracy: 0.8919\n",
            "Epoch 110/250\n",
            "5/5 [==============================] - 0s 6ms/step - loss: 0.2762 - accuracy: 0.9068 - val_loss: 0.2576 - val_accuracy: 0.8919\n",
            "Epoch 111/250\n",
            "5/5 [==============================] - 0s 6ms/step - loss: 0.3051 - accuracy: 0.8829 - val_loss: 0.2570 - val_accuracy: 0.8649\n",
            "Epoch 112/250\n",
            "5/5 [==============================] - 0s 7ms/step - loss: 0.3268 - accuracy: 0.8818 - val_loss: 0.2567 - val_accuracy: 0.8649\n",
            "Epoch 113/250\n",
            "5/5 [==============================] - 0s 8ms/step - loss: 0.3126 - accuracy: 0.8873 - val_loss: 0.2563 - val_accuracy: 0.8649\n",
            "Epoch 114/250\n",
            "5/5 [==============================] - 0s 6ms/step - loss: 0.2987 - accuracy: 0.8907 - val_loss: 0.2554 - val_accuracy: 0.8649\n",
            "Epoch 115/250\n",
            "5/5 [==============================] - 0s 6ms/step - loss: 0.3127 - accuracy: 0.8640 - val_loss: 0.2547 - val_accuracy: 0.8649\n",
            "Epoch 116/250\n",
            "5/5 [==============================] - 0s 6ms/step - loss: 0.3075 - accuracy: 0.8901 - val_loss: 0.2545 - val_accuracy: 0.8649\n",
            "Epoch 117/250\n",
            "5/5 [==============================] - 0s 7ms/step - loss: 0.2877 - accuracy: 0.8943 - val_loss: 0.2538 - val_accuracy: 0.8649\n",
            "Epoch 118/250\n",
            "5/5 [==============================] - 0s 6ms/step - loss: 0.2866 - accuracy: 0.8984 - val_loss: 0.2531 - val_accuracy: 0.8649\n",
            "Epoch 119/250\n",
            "5/5 [==============================] - 0s 11ms/step - loss: 0.2983 - accuracy: 0.8868 - val_loss: 0.2521 - val_accuracy: 0.8649\n",
            "Epoch 120/250\n",
            "5/5 [==============================] - 0s 6ms/step - loss: 0.3066 - accuracy: 0.8840 - val_loss: 0.2512 - val_accuracy: 0.8649\n",
            "Epoch 121/250\n",
            "5/5 [==============================] - 0s 6ms/step - loss: 0.2838 - accuracy: 0.9015 - val_loss: 0.2505 - val_accuracy: 0.8649\n",
            "Epoch 122/250\n",
            "5/5 [==============================] - 0s 6ms/step - loss: 0.2905 - accuracy: 0.8898 - val_loss: 0.2502 - val_accuracy: 0.8649\n",
            "Epoch 123/250\n",
            "5/5 [==============================] - 0s 6ms/step - loss: 0.2897 - accuracy: 0.8924 - val_loss: 0.2500 - val_accuracy: 0.8649\n",
            "Epoch 124/250\n",
            "5/5 [==============================] - 0s 6ms/step - loss: 0.2860 - accuracy: 0.8904 - val_loss: 0.2497 - val_accuracy: 0.8649\n",
            "Epoch 125/250\n",
            "5/5 [==============================] - 0s 6ms/step - loss: 0.3000 - accuracy: 0.8812 - val_loss: 0.2493 - val_accuracy: 0.8649\n",
            "Epoch 126/250\n",
            "5/5 [==============================] - 0s 6ms/step - loss: 0.3003 - accuracy: 0.8834 - val_loss: 0.2492 - val_accuracy: 0.8649\n",
            "Epoch 127/250\n",
            "5/5 [==============================] - 0s 6ms/step - loss: 0.2844 - accuracy: 0.8888 - val_loss: 0.2491 - val_accuracy: 0.8649\n",
            "Epoch 128/250\n",
            "5/5 [==============================] - 0s 7ms/step - loss: 0.2827 - accuracy: 0.8860 - val_loss: 0.2492 - val_accuracy: 0.8919\n",
            "Epoch 129/250\n",
            "5/5 [==============================] - 0s 7ms/step - loss: 0.2599 - accuracy: 0.8999 - val_loss: 0.2491 - val_accuracy: 0.8919\n",
            "Epoch 130/250\n",
            "5/5 [==============================] - 0s 7ms/step - loss: 0.2901 - accuracy: 0.8849 - val_loss: 0.2487 - val_accuracy: 0.8919\n",
            "Epoch 131/250\n",
            "5/5 [==============================] - 0s 7ms/step - loss: 0.3025 - accuracy: 0.8685 - val_loss: 0.2475 - val_accuracy: 0.8919\n",
            "Epoch 132/250\n",
            "5/5 [==============================] - 0s 6ms/step - loss: 0.2629 - accuracy: 0.8982 - val_loss: 0.2471 - val_accuracy: 0.8649\n",
            "Epoch 133/250\n",
            "5/5 [==============================] - 0s 6ms/step - loss: 0.2816 - accuracy: 0.8851 - val_loss: 0.2470 - val_accuracy: 0.8649\n",
            "Epoch 134/250\n",
            "5/5 [==============================] - 0s 6ms/step - loss: 0.2933 - accuracy: 0.8782 - val_loss: 0.2475 - val_accuracy: 0.8649\n",
            "Epoch 135/250\n",
            "5/5 [==============================] - 0s 6ms/step - loss: 0.2691 - accuracy: 0.8993 - val_loss: 0.2476 - val_accuracy: 0.8649\n",
            "Epoch 136/250\n",
            "5/5 [==============================] - 0s 6ms/step - loss: 0.2673 - accuracy: 0.8973 - val_loss: 0.2475 - val_accuracy: 0.8649\n",
            "Epoch 137/250\n",
            "5/5 [==============================] - 0s 6ms/step - loss: 0.2956 - accuracy: 0.8829 - val_loss: 0.2472 - val_accuracy: 0.8649\n",
            "Epoch 138/250\n",
            "5/5 [==============================] - 0s 6ms/step - loss: 0.3138 - accuracy: 0.8723 - val_loss: 0.2472 - val_accuracy: 0.8649\n",
            "Epoch 139/250\n",
            "5/5 [==============================] - 0s 6ms/step - loss: 0.2919 - accuracy: 0.8815 - val_loss: 0.2474 - val_accuracy: 0.8919\n",
            "Epoch 140/250\n",
            "5/5 [==============================] - 0s 7ms/step - loss: 0.3136 - accuracy: 0.8673 - val_loss: 0.2480 - val_accuracy: 0.8919\n",
            "Epoch 141/250\n",
            "5/5 [==============================] - 0s 7ms/step - loss: 0.2606 - accuracy: 0.8968 - val_loss: 0.2481 - val_accuracy: 0.8919\n",
            "Epoch 142/250\n",
            "5/5 [==============================] - 0s 6ms/step - loss: 0.2928 - accuracy: 0.8934 - val_loss: 0.2470 - val_accuracy: 0.8919\n",
            "Epoch 143/250\n",
            "5/5 [==============================] - 0s 7ms/step - loss: 0.2667 - accuracy: 0.9054 - val_loss: 0.2459 - val_accuracy: 0.8919\n",
            "Epoch 144/250\n",
            "5/5 [==============================] - 0s 7ms/step - loss: 0.2902 - accuracy: 0.8840 - val_loss: 0.2454 - val_accuracy: 0.8919\n",
            "Epoch 145/250\n",
            "5/5 [==============================] - 0s 6ms/step - loss: 0.2741 - accuracy: 0.9004 - val_loss: 0.2449 - val_accuracy: 0.8919\n",
            "Epoch 146/250\n",
            "5/5 [==============================] - 0s 8ms/step - loss: 0.2755 - accuracy: 0.8959 - val_loss: 0.2442 - val_accuracy: 0.8919\n",
            "Epoch 147/250\n",
            "5/5 [==============================] - 0s 8ms/step - loss: 0.3026 - accuracy: 0.8759 - val_loss: 0.2434 - val_accuracy: 0.8919\n",
            "Epoch 148/250\n",
            "5/5 [==============================] - 0s 8ms/step - loss: 0.2884 - accuracy: 0.8768 - val_loss: 0.2431 - val_accuracy: 0.8919\n",
            "Epoch 149/250\n",
            "5/5 [==============================] - 0s 8ms/step - loss: 0.2730 - accuracy: 0.8945 - val_loss: 0.2426 - val_accuracy: 0.8919\n",
            "Epoch 150/250\n",
            "5/5 [==============================] - 0s 6ms/step - loss: 0.2497 - accuracy: 0.9068 - val_loss: 0.2419 - val_accuracy: 0.8919\n",
            "Epoch 151/250\n",
            "5/5 [==============================] - 0s 6ms/step - loss: 0.2825 - accuracy: 0.8817 - val_loss: 0.2403 - val_accuracy: 0.8919\n",
            "Epoch 152/250\n",
            "5/5 [==============================] - 0s 6ms/step - loss: 0.2508 - accuracy: 0.9001 - val_loss: 0.2401 - val_accuracy: 0.8649\n",
            "Epoch 153/250\n",
            "5/5 [==============================] - 0s 5ms/step - loss: 0.2734 - accuracy: 0.9069 - val_loss: 0.2392 - val_accuracy: 0.8649\n",
            "Epoch 154/250\n",
            "5/5 [==============================] - 0s 7ms/step - loss: 0.2698 - accuracy: 0.8964 - val_loss: 0.2385 - val_accuracy: 0.8649\n",
            "Epoch 155/250\n",
            "5/5 [==============================] - 0s 7ms/step - loss: 0.2688 - accuracy: 0.9064 - val_loss: 0.2380 - val_accuracy: 0.8649\n",
            "Epoch 156/250\n",
            "5/5 [==============================] - 0s 7ms/step - loss: 0.2902 - accuracy: 0.8861 - val_loss: 0.2379 - val_accuracy: 0.8649\n",
            "Epoch 157/250\n",
            "5/5 [==============================] - 0s 6ms/step - loss: 0.2559 - accuracy: 0.9108 - val_loss: 0.2380 - val_accuracy: 0.8649\n",
            "Epoch 158/250\n",
            "5/5 [==============================] - 0s 7ms/step - loss: 0.2862 - accuracy: 0.9033 - val_loss: 0.2382 - val_accuracy: 0.8649\n",
            "Epoch 159/250\n",
            "5/5 [==============================] - 0s 6ms/step - loss: 0.2727 - accuracy: 0.9125 - val_loss: 0.2381 - val_accuracy: 0.8649\n",
            "Epoch 160/250\n",
            "5/5 [==============================] - 0s 6ms/step - loss: 0.2630 - accuracy: 0.9003 - val_loss: 0.2382 - val_accuracy: 0.8649\n",
            "Epoch 161/250\n",
            "5/5 [==============================] - 0s 6ms/step - loss: 0.2882 - accuracy: 0.8919 - val_loss: 0.2382 - val_accuracy: 0.8649\n",
            "Epoch 162/250\n",
            "5/5 [==============================] - 0s 6ms/step - loss: 0.2439 - accuracy: 0.9175 - val_loss: 0.2381 - val_accuracy: 0.8649\n",
            "Epoch 163/250\n",
            "5/5 [==============================] - 0s 6ms/step - loss: 0.2571 - accuracy: 0.8998 - val_loss: 0.2380 - val_accuracy: 0.8919\n",
            "Epoch 164/250\n",
            "5/5 [==============================] - 0s 5ms/step - loss: 0.2815 - accuracy: 0.8864 - val_loss: 0.2381 - val_accuracy: 0.8919\n",
            "Epoch 165/250\n",
            "5/5 [==============================] - 0s 6ms/step - loss: 0.2530 - accuracy: 0.9048 - val_loss: 0.2379 - val_accuracy: 0.8919\n",
            "Epoch 166/250\n",
            "5/5 [==============================] - 0s 6ms/step - loss: 0.2486 - accuracy: 0.9001 - val_loss: 0.2377 - val_accuracy: 0.8919\n",
            "Epoch 167/250\n",
            "5/5 [==============================] - 0s 7ms/step - loss: 0.2848 - accuracy: 0.8942 - val_loss: 0.2368 - val_accuracy: 0.8919\n",
            "Epoch 168/250\n",
            "5/5 [==============================] - 0s 6ms/step - loss: 0.2606 - accuracy: 0.9070 - val_loss: 0.2361 - val_accuracy: 0.8919\n",
            "Epoch 169/250\n",
            "5/5 [==============================] - 0s 6ms/step - loss: 0.2821 - accuracy: 0.8920 - val_loss: 0.2355 - val_accuracy: 0.8919\n",
            "Epoch 170/250\n",
            "5/5 [==============================] - 0s 6ms/step - loss: 0.2453 - accuracy: 0.9106 - val_loss: 0.2354 - val_accuracy: 0.8919\n",
            "Epoch 171/250\n",
            "5/5 [==============================] - 0s 7ms/step - loss: 0.2718 - accuracy: 0.8956 - val_loss: 0.2355 - val_accuracy: 0.8919\n",
            "Epoch 172/250\n",
            "5/5 [==============================] - 0s 6ms/step - loss: 0.2682 - accuracy: 0.8959 - val_loss: 0.2359 - val_accuracy: 0.8919\n",
            "Epoch 173/250\n",
            "5/5 [==============================] - 0s 7ms/step - loss: 0.2776 - accuracy: 0.8973 - val_loss: 0.2357 - val_accuracy: 0.8919\n",
            "Epoch 174/250\n",
            "5/5 [==============================] - 0s 6ms/step - loss: 0.2939 - accuracy: 0.8798 - val_loss: 0.2355 - val_accuracy: 0.8919\n",
            "Epoch 175/250\n",
            "5/5 [==============================] - 0s 6ms/step - loss: 0.2791 - accuracy: 0.8886 - val_loss: 0.2351 - val_accuracy: 0.8919\n",
            "Epoch 176/250\n",
            "5/5 [==============================] - 0s 6ms/step - loss: 0.2623 - accuracy: 0.9056 - val_loss: 0.2346 - val_accuracy: 0.8919\n",
            "Epoch 177/250\n",
            "5/5 [==============================] - 0s 6ms/step - loss: 0.2520 - accuracy: 0.9089 - val_loss: 0.2342 - val_accuracy: 0.8919\n",
            "Epoch 178/250\n",
            "5/5 [==============================] - 0s 6ms/step - loss: 0.2580 - accuracy: 0.9025 - val_loss: 0.2340 - val_accuracy: 0.8919\n",
            "Epoch 179/250\n",
            "5/5 [==============================] - 0s 6ms/step - loss: 0.2585 - accuracy: 0.9036 - val_loss: 0.2339 - val_accuracy: 0.8919\n",
            "Epoch 180/250\n",
            "5/5 [==============================] - 0s 8ms/step - loss: 0.2813 - accuracy: 0.8911 - val_loss: 0.2337 - val_accuracy: 0.8919\n",
            "Epoch 181/250\n",
            "5/5 [==============================] - 0s 7ms/step - loss: 0.2647 - accuracy: 0.9036 - val_loss: 0.2333 - val_accuracy: 0.8919\n",
            "Epoch 182/250\n",
            "5/5 [==============================] - 0s 9ms/step - loss: 0.2788 - accuracy: 0.8969 - val_loss: 0.2329 - val_accuracy: 0.8919\n",
            "Epoch 183/250\n",
            "5/5 [==============================] - 0s 6ms/step - loss: 0.2624 - accuracy: 0.9069 - val_loss: 0.2326 - val_accuracy: 0.8919\n",
            "Epoch 184/250\n",
            "5/5 [==============================] - 0s 6ms/step - loss: 0.2734 - accuracy: 0.8939 - val_loss: 0.2320 - val_accuracy: 0.8919\n",
            "Epoch 185/250\n",
            "5/5 [==============================] - 0s 6ms/step - loss: 0.2624 - accuracy: 0.9138 - val_loss: 0.2317 - val_accuracy: 0.8919\n",
            "Epoch 186/250\n",
            "5/5 [==============================] - 0s 6ms/step - loss: 0.2672 - accuracy: 0.9074 - val_loss: 0.2318 - val_accuracy: 0.8919\n",
            "Epoch 187/250\n",
            "5/5 [==============================] - 0s 6ms/step - loss: 0.2802 - accuracy: 0.8972 - val_loss: 0.2322 - val_accuracy: 0.8919\n",
            "Epoch 188/250\n",
            "5/5 [==============================] - 0s 7ms/step - loss: 0.2706 - accuracy: 0.9036 - val_loss: 0.2324 - val_accuracy: 0.8919\n",
            "Epoch 189/250\n",
            "5/5 [==============================] - 0s 6ms/step - loss: 0.2559 - accuracy: 0.9083 - val_loss: 0.2320 - val_accuracy: 0.8919\n",
            "Epoch 190/250\n",
            "5/5 [==============================] - 0s 6ms/step - loss: 0.2559 - accuracy: 0.9160 - val_loss: 0.2315 - val_accuracy: 0.8919\n",
            "Epoch 191/250\n",
            "5/5 [==============================] - 0s 7ms/step - loss: 0.2867 - accuracy: 0.8991 - val_loss: 0.2309 - val_accuracy: 0.8919\n",
            "Epoch 192/250\n",
            "5/5 [==============================] - 0s 7ms/step - loss: 0.2556 - accuracy: 0.9093 - val_loss: 0.2304 - val_accuracy: 0.8919\n",
            "Epoch 193/250\n",
            "5/5 [==============================] - 0s 7ms/step - loss: 0.2490 - accuracy: 0.9160 - val_loss: 0.2295 - val_accuracy: 0.8919\n",
            "Epoch 194/250\n",
            "5/5 [==============================] - 0s 6ms/step - loss: 0.2609 - accuracy: 0.9161 - val_loss: 0.2290 - val_accuracy: 0.8919\n",
            "Epoch 195/250\n",
            "5/5 [==============================] - 0s 7ms/step - loss: 0.2445 - accuracy: 0.9127 - val_loss: 0.2286 - val_accuracy: 0.8919\n",
            "Epoch 196/250\n",
            "5/5 [==============================] - 0s 8ms/step - loss: 0.2543 - accuracy: 0.9047 - val_loss: 0.2286 - val_accuracy: 0.8919\n",
            "Epoch 197/250\n",
            "5/5 [==============================] - 0s 8ms/step - loss: 0.2245 - accuracy: 0.9158 - val_loss: 0.2287 - val_accuracy: 0.8919\n",
            "Epoch 198/250\n",
            "5/5 [==============================] - 0s 7ms/step - loss: 0.2407 - accuracy: 0.9208 - val_loss: 0.2285 - val_accuracy: 0.8649\n",
            "Epoch 199/250\n",
            "5/5 [==============================] - 0s 6ms/step - loss: 0.2488 - accuracy: 0.9205 - val_loss: 0.2280 - val_accuracy: 0.8919\n",
            "Epoch 200/250\n",
            "5/5 [==============================] - 0s 6ms/step - loss: 0.2790 - accuracy: 0.8974 - val_loss: 0.2275 - val_accuracy: 0.8919\n",
            "Epoch 201/250\n",
            "5/5 [==============================] - 0s 8ms/step - loss: 0.2696 - accuracy: 0.9068 - val_loss: 0.2275 - val_accuracy: 0.8919\n",
            "Epoch 202/250\n",
            "5/5 [==============================] - 0s 6ms/step - loss: 0.2530 - accuracy: 0.9005 - val_loss: 0.2272 - val_accuracy: 0.8919\n",
            "Epoch 203/250\n",
            "5/5 [==============================] - 0s 6ms/step - loss: 0.2548 - accuracy: 0.9072 - val_loss: 0.2270 - val_accuracy: 0.8919\n",
            "Epoch 204/250\n",
            "5/5 [==============================] - 0s 6ms/step - loss: 0.2940 - accuracy: 0.8819 - val_loss: 0.2268 - val_accuracy: 0.8919\n",
            "Epoch 205/250\n",
            "5/5 [==============================] - 0s 6ms/step - loss: 0.2318 - accuracy: 0.9288 - val_loss: 0.2266 - val_accuracy: 0.8919\n",
            "Epoch 206/250\n",
            "5/5 [==============================] - 0s 6ms/step - loss: 0.2431 - accuracy: 0.9122 - val_loss: 0.2265 - val_accuracy: 0.8919\n",
            "Epoch 207/250\n",
            "5/5 [==============================] - 0s 7ms/step - loss: 0.2558 - accuracy: 0.9118 - val_loss: 0.2269 - val_accuracy: 0.8919\n",
            "Epoch 208/250\n",
            "5/5 [==============================] - 0s 6ms/step - loss: 0.2450 - accuracy: 0.9121 - val_loss: 0.2272 - val_accuracy: 0.8919\n",
            "Epoch 209/250\n",
            "5/5 [==============================] - 0s 7ms/step - loss: 0.2458 - accuracy: 0.9185 - val_loss: 0.2274 - val_accuracy: 0.8919\n",
            "Epoch 210/250\n",
            "5/5 [==============================] - 0s 8ms/step - loss: 0.2388 - accuracy: 0.9235 - val_loss: 0.2277 - val_accuracy: 0.8919\n",
            "Epoch 211/250\n",
            "5/5 [==============================] - 0s 6ms/step - loss: 0.2698 - accuracy: 0.8980 - val_loss: 0.2276 - val_accuracy: 0.8919\n",
            "Epoch 212/250\n",
            "5/5 [==============================] - 0s 6ms/step - loss: 0.2426 - accuracy: 0.9118 - val_loss: 0.2275 - val_accuracy: 0.8919\n",
            "Epoch 213/250\n",
            "5/5 [==============================] - 0s 7ms/step - loss: 0.2471 - accuracy: 0.9072 - val_loss: 0.2276 - val_accuracy: 0.8919\n",
            "Epoch 214/250\n",
            "5/5 [==============================] - 0s 6ms/step - loss: 0.2685 - accuracy: 0.8899 - val_loss: 0.2280 - val_accuracy: 0.8919\n",
            "Epoch 215/250\n",
            "5/5 [==============================] - 0s 6ms/step - loss: 0.2521 - accuracy: 0.9061 - val_loss: 0.2272 - val_accuracy: 0.8919\n",
            "Epoch 216/250\n",
            "5/5 [==============================] - 0s 7ms/step - loss: 0.2602 - accuracy: 0.9049 - val_loss: 0.2267 - val_accuracy: 0.8919\n",
            "Epoch 217/250\n",
            "5/5 [==============================] - 0s 11ms/step - loss: 0.2460 - accuracy: 0.9041 - val_loss: 0.2267 - val_accuracy: 0.8919\n",
            "Epoch 218/250\n",
            "5/5 [==============================] - 0s 7ms/step - loss: 0.2282 - accuracy: 0.9216 - val_loss: 0.2264 - val_accuracy: 0.8919\n",
            "Epoch 219/250\n",
            "5/5 [==============================] - 0s 6ms/step - loss: 0.2478 - accuracy: 0.9113 - val_loss: 0.2262 - val_accuracy: 0.8919\n",
            "Epoch 220/250\n",
            "5/5 [==============================] - 0s 6ms/step - loss: 0.2683 - accuracy: 0.8941 - val_loss: 0.2257 - val_accuracy: 0.8919\n",
            "Epoch 221/250\n",
            "5/5 [==============================] - 0s 6ms/step - loss: 0.2296 - accuracy: 0.9205 - val_loss: 0.2253 - val_accuracy: 0.8919\n",
            "Epoch 222/250\n",
            "5/5 [==============================] - 0s 6ms/step - loss: 0.2443 - accuracy: 0.9193 - val_loss: 0.2249 - val_accuracy: 0.8919\n",
            "Epoch 223/250\n",
            "5/5 [==============================] - 0s 6ms/step - loss: 0.2377 - accuracy: 0.9216 - val_loss: 0.2251 - val_accuracy: 0.8919\n",
            "Epoch 224/250\n",
            "5/5 [==============================] - 0s 6ms/step - loss: 0.2411 - accuracy: 0.9066 - val_loss: 0.2254 - val_accuracy: 0.8919\n",
            "Epoch 225/250\n",
            "5/5 [==============================] - 0s 7ms/step - loss: 0.2679 - accuracy: 0.9093 - val_loss: 0.2253 - val_accuracy: 0.8919\n",
            "Epoch 226/250\n",
            "5/5 [==============================] - 0s 6ms/step - loss: 0.2571 - accuracy: 0.9096 - val_loss: 0.2249 - val_accuracy: 0.8919\n",
            "Epoch 227/250\n",
            "5/5 [==============================] - 0s 6ms/step - loss: 0.2482 - accuracy: 0.9049 - val_loss: 0.2252 - val_accuracy: 0.8919\n",
            "Epoch 228/250\n",
            "5/5 [==============================] - 0s 6ms/step - loss: 0.2596 - accuracy: 0.9016 - val_loss: 0.2257 - val_accuracy: 0.8919\n",
            "Epoch 229/250\n",
            "5/5 [==============================] - 0s 6ms/step - loss: 0.2491 - accuracy: 0.9058 - val_loss: 0.2261 - val_accuracy: 0.8919\n",
            "Epoch 230/250\n",
            "5/5 [==============================] - 0s 6ms/step - loss: 0.2823 - accuracy: 0.8861 - val_loss: 0.2268 - val_accuracy: 0.8649\n",
            "Epoch 231/250\n",
            "5/5 [==============================] - 0s 8ms/step - loss: 0.2301 - accuracy: 0.9199 - val_loss: 0.2270 - val_accuracy: 0.8649\n",
            "Epoch 232/250\n",
            "5/5 [==============================] - 0s 6ms/step - loss: 0.2502 - accuracy: 0.9137 - val_loss: 0.2267 - val_accuracy: 0.8649\n",
            "Epoch 233/250\n",
            "5/5 [==============================] - 0s 8ms/step - loss: 0.2430 - accuracy: 0.9162 - val_loss: 0.2269 - val_accuracy: 0.8649\n",
            "Epoch 234/250\n",
            "5/5 [==============================] - 0s 6ms/step - loss: 0.2656 - accuracy: 0.8954 - val_loss: 0.2279 - val_accuracy: 0.8649\n",
            "Epoch 235/250\n",
            "5/5 [==============================] - 0s 6ms/step - loss: 0.2467 - accuracy: 0.9157 - val_loss: 0.2286 - val_accuracy: 0.8649\n",
            "Epoch 236/250\n",
            "5/5 [==============================] - 0s 7ms/step - loss: 0.2644 - accuracy: 0.9187 - val_loss: 0.2287 - val_accuracy: 0.8649\n",
            "Epoch 237/250\n",
            "5/5 [==============================] - 0s 6ms/step - loss: 0.2373 - accuracy: 0.9138 - val_loss: 0.2286 - val_accuracy: 0.8649\n",
            "Epoch 238/250\n",
            "5/5 [==============================] - 0s 7ms/step - loss: 0.2448 - accuracy: 0.9149 - val_loss: 0.2280 - val_accuracy: 0.8649\n",
            "Epoch 239/250\n",
            "5/5 [==============================] - 0s 6ms/step - loss: 0.2381 - accuracy: 0.9149 - val_loss: 0.2278 - val_accuracy: 0.8649\n",
            "Epoch 240/250\n",
            "5/5 [==============================] - 0s 7ms/step - loss: 0.2436 - accuracy: 0.9099 - val_loss: 0.2277 - val_accuracy: 0.8649\n",
            "Epoch 241/250\n",
            "5/5 [==============================] - 0s 7ms/step - loss: 0.2545 - accuracy: 0.9082 - val_loss: 0.2280 - val_accuracy: 0.8649\n",
            "Epoch 242/250\n",
            "5/5 [==============================] - 0s 7ms/step - loss: 0.2395 - accuracy: 0.9199 - val_loss: 0.2282 - val_accuracy: 0.8649\n",
            "Epoch 243/250\n",
            "5/5 [==============================] - 0s 7ms/step - loss: 0.2213 - accuracy: 0.9212 - val_loss: 0.2285 - val_accuracy: 0.8649\n",
            "Epoch 244/250\n",
            "5/5 [==============================] - 0s 8ms/step - loss: 0.2664 - accuracy: 0.9065 - val_loss: 0.2288 - val_accuracy: 0.8649\n",
            "Epoch 245/250\n",
            "5/5 [==============================] - 0s 6ms/step - loss: 0.2423 - accuracy: 0.9185 - val_loss: 0.2286 - val_accuracy: 0.8649\n",
            "Epoch 246/250\n",
            "5/5 [==============================] - 0s 6ms/step - loss: 0.2325 - accuracy: 0.9193 - val_loss: 0.2281 - val_accuracy: 0.8649\n",
            "Epoch 247/250\n",
            "5/5 [==============================] - 0s 6ms/step - loss: 0.2354 - accuracy: 0.9265 - val_loss: 0.2282 - val_accuracy: 0.8649\n",
            "Epoch 248/250\n",
            "5/5 [==============================] - 0s 6ms/step - loss: 0.2150 - accuracy: 0.9304 - val_loss: 0.2285 - val_accuracy: 0.8649\n",
            "Epoch 249/250\n",
            "5/5 [==============================] - 0s 6ms/step - loss: 0.2416 - accuracy: 0.9162 - val_loss: 0.2286 - val_accuracy: 0.8649\n",
            "Epoch 250/250\n",
            "5/5 [==============================] - 0s 6ms/step - loss: 0.2390 - accuracy: 0.9245 - val_loss: 0.2285 - val_accuracy: 0.8649\n"
          ],
          "name": "stdout"
        },
        {
          "output_type": "display_data",
          "data": {
            "image/png": "[encoded data removed]",
            "text/plain": [
              "<Figure size 432x288 with 1 Axes>"
            ]
          },
          "metadata": {
            "tags": [],
            "needs_background": "light"
          }
        }
      ]
    },
    {
      "cell_type": "code",
      "metadata": {
        "colab": {
          "base_uri": "https://localhost:8080/",
          "height": 281
        },
        "id": "fvX9SMRkUhPm",
        "outputId": "4a500725-d0be-4f9f-c094-1e4c9501c830"
      },
      "source": [
        "pd.DataFrame(ann.history)[['accuracy','val_accuracy']].plot()\n",
        "rounded = [round(x[0]) for x in y_pred_ann]\n",
        "y_pred_ann = rounded\n",
        "accuracy_ann = accuracy_score(y_test,y_pred_ann)\n",
        "f1_ann = f1_score(y_test,y_pred_ann)\n",
        "print(accuracy_ann)\n",
        "mean_acc_scores.append(accuracy_ann)\n",
        "mean_f1_scores.append(f1_ann)"
      ],
      "execution_count": null,
      "outputs": [
        {
          "output_type": "stream",
          "text": [
            "0.8688524590163934\n"
          ],
          "name": "stdout"
        },
        {
          "output_type": "display_data",
          "data": {
            "image/png": "[encoded data removed]",
            "text/plain": [
              "<Figure size 432x288 with 1 Axes>"
            ]
          },
          "metadata": {
            "tags": [],
            "needs_background": "light"
          }
        }
      ]
    },
    {
      "cell_type": "markdown",
      "metadata": {
        "id": "sgn_acHsavku"
      },
      "source": [
        "# **Insights**"
      ]
    },
    {
      "cell_type": "code",
      "metadata": {
        "colab": {
          "base_uri": "https://localhost:8080/"
        },
        "id": "tcr8Mfigay7a",
        "outputId": "7801ca64-7ebb-46b7-b4b8-d4b4f7ae5249"
      },
      "source": [
        "print(algorithms)\n",
        "print(mean_acc_scores)\n",
        "print(mean_f1_scores)"
      ],
      "execution_count": null,
      "outputs": [
        {
          "output_type": "stream",
          "text": [
            "['lr', 'sv', 'knn', 'Decision Tree', 'RF', 'NB', 'XGBClassifier', 'ann']\n",
            "[0.8511827956989247, 0.8448387096774193, 0.8449462365591398, 0.755268817204301, 0.8578494623655913, 0.8018279569892475, 0.8443010752688173, 0.8688524590163934]\n",
            "[0.8629446816946815, 0.8569905992700111, 0.8593457576023991, 0.7803292165485065, 0.8713865976365975, 0.8139646566401785, 0.8612327768945416, 0.870967741935484]\n"
          ],
          "name": "stdout"
        }
      ]
    },
    {
      "cell_type": "code",
      "metadata": {
        "colab": {
          "base_uri": "https://localhost:8080/"
        },
        "id": "dOQmT-rhlea5",
        "outputId": "27b6bc03-0e3f-43c4-9c9c-ad1dafbd11bc"
      },
      "source": [
        "for i in range(len(algorithms)):\n",
        "  sca = round(mean_acc_scores[i],2)\n",
        "  print('Accuracy score using '+algorithms[i] + ' is ' + str(sca))"
      ],
      "execution_count": null,
      "outputs": [
        {
          "output_type": "stream",
          "text": [
            "Accuracy score using lr is 0.85\n",
            "Accuracy score using sv is 0.84\n",
            "Accuracy score using knn is 0.84\n",
            "Accuracy score using Decision Tree is 0.76\n",
            "Accuracy score using RF is 0.86\n",
            "Accuracy score using NB is 0.8\n",
            "Accuracy score using XGBClassifier is 0.84\n",
            "Accuracy score using ann is 0.87\n"
          ],
          "name": "stdout"
        }
      ]
    },
    {
      "cell_type": "code",
      "metadata": {
        "colab": {
          "base_uri": "https://localhost:8080/"
        },
        "id": "FC-frsURnEae",
        "outputId": "a96baee2-e780-479c-b026-91899e37b072"
      },
      "source": [
        "for i in range(len(algorithms)):\n",
        "  scf = round(mean_f1_scores[i],2)\n",
        "  print('F1 score using '+algorithms[i] + ' is ' + str(scf))"
      ],
      "execution_count": null,
      "outputs": [
        {
          "output_type": "stream",
          "text": [
            "F1 score using lr is 0.86\n",
            "F1 score using sv is 0.86\n",
            "F1 score using knn is 0.86\n",
            "F1 score using Decision Tree is 0.78\n",
            "F1 score using RF is 0.87\n",
            "F1 score using NB is 0.81\n",
            "F1 score using XGBClassifier is 0.86\n",
            "F1 score using ann is 0.87\n"
          ],
          "name": "stdout"
        }
      ]
    },
    {
      "cell_type": "code",
      "metadata": {
        "id": "dR0vGJ8KoDgj",
        "colab": {
          "base_uri": "https://localhost:8080/",
          "height": 572
        },
        "outputId": "d7b6a630-6494-4feb-d903-35fa7bf0d20f"
      },
      "source": [
        "sns.set(rc={'figure.figsize':(15,8)})\n",
        "plt.xlabel(\"Algorithms\")\n",
        "plt.ylabel(\"Accuracy score\")\n",
        "\n",
        "sns.barplot(algorithms,mean_acc_scores)"
      ],
      "execution_count": null,
      "outputs": [
        {
          "output_type": "stream",
          "text": [
            "/usr/local/lib/python3.7/dist-packages/seaborn/_decorators.py:43: FutureWarning: Pass the following variables as keyword args: x, y. From version 0.12, the only valid positional argument will be `data`, and passing other arguments without an explicit keyword will result in an error or misinterpretation.\n",
            "  FutureWarning\n"
          ],
          "name": "stderr"
        },
        {
          "output_type": "execute_result",
          "data": {
            "text/plain": [
              "<matplotlib.axes._subplots.AxesSubplot at 0x7efe9dfe0410>"
            ]
          },
          "metadata": {
            "tags": []
          },
          "execution_count": 407
        },
        {
          "output_type": "display_data",
          "data": {
            "image/png": "[encoded data removed]",
            "text/plain": [
              "<Figure size 1080x576 with 1 Axes>"
            ]
          },
          "metadata": {
            "tags": []
          }
        }
      ]
    },
    {
      "cell_type": "code",
      "metadata": {
        "colab": {
          "base_uri": "https://localhost:8080/",
          "height": 572
        },
        "id": "7bzlRIDko9aC",
        "outputId": "8c0e9f5f-5013-41fa-b301-32e983727ee2"
      },
      "source": [
        "sns.set(rc={'figure.figsize':(15,8)})\n",
        "plt.xlabel(\"Algorithms\")\n",
        "plt.ylabel(\"F1 score\")\n",
        "\n",
        "sns.barplot(algorithms,mean_f1_scores)"
      ],
      "execution_count": null,
      "outputs": [
        {
          "output_type": "stream",
          "text": [
            "/usr/local/lib/python3.7/dist-packages/seaborn/_decorators.py:43: FutureWarning: Pass the following variables as keyword args: x, y. From version 0.12, the only valid positional argument will be `data`, and passing other arguments without an explicit keyword will result in an error or misinterpretation.\n",
            "  FutureWarning\n"
          ],
          "name": "stderr"
        },
        {
          "output_type": "execute_result",
          "data": {
            "text/plain": [
              "<matplotlib.axes._subplots.AxesSubplot at 0x7efe9df4be50>"
            ]
          },
          "metadata": {
            "tags": []
          },
          "execution_count": 408
        },
        {
          "output_type": "display_data",
          "data": {
            "image/png": "[encoded data removed]",
            "text/plain": [
              "<Figure size 1080x576 with 1 Axes>"
            ]
          },
          "metadata": {
            "tags": []
          }
        }
      ]
    },
    {
      "cell_type": "markdown",
      "metadata": {
        "id": "0N-yKH3puCX0"
      },
      "source": [
        "Final Model selected: Random Forest with Accuracy score = 86% and\n",
        "F1 score = 87%"
      ]
    },
    {
      "cell_type": "code",
      "metadata": {
        "id": "71j2ePcFpHGI",
        "colab": {
          "base_uri": "https://localhost:8080/",
          "height": 491
        },
        "outputId": "59c4615c-b9d0-43af-e85b-c63ca32c1e10"
      },
      "source": [
        "#get feature importances from the model\n",
        "headers = [\"name\", \"score\"]\n",
        "values = sorted(zip(X.columns, rf.feature_importances_), key=lambda x: x[1] * -1)\n",
        "rf_feature_importances = pd.DataFrame(values, columns = headers)\n",
        "import numpy as np\n",
        "\n",
        "#plot feature importances\n",
        "fig = plt.figure(figsize=(15,7))\n",
        "x_pos = np.arange(0, len(rf_feature_importances))\n",
        "plt.bar(x_pos, rf_feature_importances['score'])\n",
        "plt.xticks(x_pos, rf_feature_importances['name'])\n",
        "plt.xticks(rotation=90)\n",
        "plt.title('Feature importances (rf)')\n",
        "\n",
        "plt.show()"
      ],
      "execution_count": null,
      "outputs": [
        {
          "output_type": "display_data",
          "data": {
            "image/png": "[encoded data removed]",
            "text/plain": [
              "<Figure size 1080x504 with 1 Axes>"
            ]
          },
          "metadata": {
            "tags": []
          }
        }
      ]
    },
    {
      "cell_type": "markdown",
      "metadata": {
        "id": "0UiE0Eyrt7sK"
      },
      "source": [
        "Random Forest Conusion Matrix"
      ]
    },
    {
      "cell_type": "code",
      "metadata": {
        "colab": {
          "base_uri": "https://localhost:8080/",
          "height": 502
        },
        "id": "cVDGusEWq5TM",
        "outputId": "c9c55719-6cf1-4924-cde4-97597133171f"
      },
      "source": [
        "from sklearn.model_selection import cross_val_predict\n",
        "from sklearn.metrics import confusion_matrix\n",
        "y_pred_rf = cross_val_predict(rf, X, y, cv=10)\n",
        "cm = confusion_matrix(y, y_pred_rf,normalize='all')\n",
        "sns.heatmap(cm, annot=True)\n",
        "plt.xlabel('Predicted')\n",
        "plt.ylabel('True Value')\n",
        "plt.show()\n"
      ],
      "execution_count": null,
      "outputs": [
        {
          "output_type": "display_data",
          "data": {
            "image/png": "[encoded data removed]",
            "text/plain": [
              "<Figure size 1080x576 with 2 Axes>"
            ]
          },
          "metadata": {
            "tags": []
          }
        }
      ]
    },
    {
      "cell_type": "markdown",
      "metadata": {
        "id": "YPgnDWLMt1Zv"
      },
      "source": [
        "ANN confusion matrix:"
      ]
    },
    {
      "cell_type": "code",
      "metadata": {
        "colab": {
          "base_uri": "https://localhost:8080/",
          "height": 502
        },
        "id": "viAf4TCrtMfp",
        "outputId": "8119e346-6867-4c2a-e6ab-97aae5e12d06"
      },
      "source": [
        "cma = confusion_matrix(y_test, y_pred_ann,normalize='all')\n",
        "sns.heatmap(cma, annot=True)\n",
        "plt.xlabel('Predicted')\n",
        "plt.ylabel('True Value')\n",
        "plt.show()"
      ],
      "execution_count": null,
      "outputs": [
        {
          "output_type": "display_data",
          "data": {
            "image/png": "[encoded data removed]",
            "text/plain": [
              "<Figure size 1080x576 with 2 Axes>"
            ]
          },
          "metadata": {
            "tags": []
          }
        }
      ]
    }
  ]
}